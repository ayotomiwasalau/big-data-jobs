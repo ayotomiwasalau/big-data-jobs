{
 "cells": [
  {
   "cell_type": "code",
   "execution_count": 1,
   "metadata": {
    "execution": {
     "iopub.execute_input": "2025-04-03T11:33:18.100480Z",
     "iopub.status.busy": "2025-04-03T11:33:18.100180Z",
     "iopub.status.idle": "2025-04-03T11:33:58.798160Z",
     "shell.execute_reply": "2025-04-03T11:33:58.797604Z",
     "shell.execute_reply.started": "2025-04-03T11:33:18.100454Z"
    },
    "tags": []
   },
   "outputs": [
    {
     "data": {
      "application/vnd.jupyter.widget-view+json": {
       "model_id": "4492d7935d4c4385b60a2727b4a11c80",
       "version_major": 2,
       "version_minor": 0
      },
      "text/plain": [
       "VBox()"
      ]
     },
     "metadata": {},
     "output_type": "display_data"
    },
    {
     "name": "stdout",
     "output_type": "stream",
     "text": [
      "Starting Spark application\n"
     ]
    },
    {
     "data": {
      "text/html": [
       "<table>\n<tbody><tr><th>ID</th><th>YARN Application ID</th><th>Kind</th><th>State</th><th>Spark UI</th><th>Driver log</th><th>User</th><th>Current session?</th></tr><tr><td>4</td><td>application_1743675731502_0005</td><td>pyspark</td><td>idle</td><td><a target=\"_blank\" href=\"http://ip-172-31-26-170.ec2.internal:20888/proxy/application_1743675731502_0005/\" class=\"emr-proxy-link j-8ATKNHF8QAWI application_1743675731502_0005\" emr-resource=\"j-8ATKNHF8QAWI\n\" application-id=\"application_1743675731502_0005\">Link</a></td><td><a target=\"_blank\" href=\"http://ip-172-31-16-135.ec2.internal:8042/node/containerlogs/container_1743675731502_0005_01_000001/livy\">Link</a></td><td>None</td><td>✔</td></tr></tbody></table>"
      ],
      "text/plain": [
       "<IPython.core.display.HTML object>"
      ]
     },
     "metadata": {},
     "output_type": "display_data"
    },
    {
     "data": {
      "application/vnd.jupyter.widget-view+json": {
       "model_id": "",
       "version_major": 2,
       "version_minor": 0
      },
      "text/plain": [
       "FloatProgress(value=0.0, bar_style='info', description='Progress:', layout=Layout(height='25px', width='50%'),…"
      ]
     },
     "metadata": {},
     "output_type": "display_data"
    },
    {
     "name": "stdout",
     "output_type": "stream",
     "text": [
      "SparkSession available as 'spark'.\n"
     ]
    },
    {
     "data": {
      "application/vnd.jupyter.widget-view+json": {
       "model_id": "",
       "version_major": 2,
       "version_minor": 0
      },
      "text/plain": [
       "FloatProgress(value=0.0, bar_style='info', description='Progress:', layout=Layout(height='25px', width='50%'),…"
      ]
     },
     "metadata": {},
     "output_type": "display_data"
    }
   ],
   "source": [
    "import configparser\n",
    "from datetime import datetime\n",
    "import os\n",
    "from pyspark.sql import SparkSession\n",
    "from pyspark.sql.functions import udf, col\n",
    "from pyspark.sql.functions import year, month, dayofmonth, hour, weekofyear, date_format\n",
    "from pyspark.sql.types import TimestampType\n",
    "import zipfile\n",
    "\n",
    "from pyspark.sql.functions import monotonically_increasing_id"
   ]
  },
  {
   "cell_type": "raw",
   "metadata": {},
   "source": [
    "config = configparser.ConfigParser()\n",
    "config.read('dl.cfg')\n",
    "\n",
    "os.environ['AWS_ACCESS_KEY_ID']=config['AWS_ACCESS_KEY_ID']\n",
    "os.environ['AWS_SECRET_ACCESS_KEY']=config['AWS_SECRET_ACCESS_KEY']"
   ]
  },
  {
   "cell_type": "code",
   "execution_count": 2,
   "metadata": {
    "execution": {
     "iopub.execute_input": "2025-04-03T11:33:58.799379Z",
     "iopub.status.busy": "2025-04-03T11:33:58.799203Z",
     "iopub.status.idle": "2025-04-03T11:33:58.850643Z",
     "shell.execute_reply": "2025-04-03T11:33:58.850021Z",
     "shell.execute_reply.started": "2025-04-03T11:33:58.799355Z"
    },
    "tags": []
   },
   "outputs": [
    {
     "data": {
      "application/vnd.jupyter.widget-view+json": {
       "model_id": "d521a8be0a5442b7a8d21c851262e8f4",
       "version_major": 2,
       "version_minor": 0
      },
      "text/plain": [
       "VBox()"
      ]
     },
     "metadata": {},
     "output_type": "display_data"
    },
    {
     "data": {
      "application/vnd.jupyter.widget-view+json": {
       "model_id": "",
       "version_major": 2,
       "version_minor": 0
      },
      "text/plain": [
       "FloatProgress(value=0.0, bar_style='info', description='Progress:', layout=Layout(height='25px', width='50%'),…"
      ]
     },
     "metadata": {},
     "output_type": "display_data"
    }
   ],
   "source": [
    "\n",
    "spark = SparkSession \\\n",
    "    .builder \\\n",
    "    .config(\"spark.jars.packages\", \"org.apache.hadoop:hadoop-aws:2.7.0\") \\\n",
    "    .getOrCreate()\n"
   ]
  },
  {
   "cell_type": "code",
   "execution_count": 3,
   "metadata": {
    "execution": {
     "iopub.execute_input": "2025-04-03T11:33:58.852069Z",
     "iopub.status.busy": "2025-04-03T11:33:58.851897Z",
     "iopub.status.idle": "2025-04-03T11:33:58.895250Z",
     "shell.execute_reply": "2025-04-03T11:33:58.894676Z",
     "shell.execute_reply.started": "2025-04-03T11:33:58.852047Z"
    },
    "tags": []
   },
   "outputs": [
    {
     "data": {
      "application/vnd.jupyter.widget-view+json": {
       "model_id": "5cba76b1dce943b693185f232666c18e",
       "version_major": 2,
       "version_minor": 0
      },
      "text/plain": [
       "VBox()"
      ]
     },
     "metadata": {},
     "output_type": "display_data"
    },
    {
     "data": {
      "application/vnd.jupyter.widget-view+json": {
       "model_id": "",
       "version_major": 2,
       "version_minor": 0
      },
      "text/plain": [
       "FloatProgress(value=0.0, bar_style='info', description='Progress:', layout=Layout(height='25px', width='50%'),…"
      ]
     },
     "metadata": {},
     "output_type": "display_data"
    }
   ],
   "source": [
    "new_song_data_path = \"s3://data-emr-bucket-store/subset-data/song-data/datafile/*/*/*/*.json\""
   ]
  },
  {
   "cell_type": "code",
   "execution_count": 4,
   "metadata": {
    "execution": {
     "iopub.execute_input": "2025-04-03T11:33:58.896595Z",
     "iopub.status.busy": "2025-04-03T11:33:58.896431Z",
     "iopub.status.idle": "2025-04-03T11:34:14.220571Z",
     "shell.execute_reply": "2025-04-03T11:34:14.219944Z",
     "shell.execute_reply.started": "2025-04-03T11:33:58.896574Z"
    },
    "tags": []
   },
   "outputs": [
    {
     "data": {
      "application/vnd.jupyter.widget-view+json": {
       "model_id": "542f00a985ee4e5992a69cce627a92ae",
       "version_major": 2,
       "version_minor": 0
      },
      "text/plain": [
       "VBox()"
      ]
     },
     "metadata": {},
     "output_type": "display_data"
    },
    {
     "data": {
      "application/vnd.jupyter.widget-view+json": {
       "model_id": "",
       "version_major": 2,
       "version_minor": 0
      },
      "text/plain": [
       "FloatProgress(value=0.0, bar_style='info', description='Progress:', layout=Layout(height='25px', width='50%'),…"
      ]
     },
     "metadata": {},
     "output_type": "display_data"
    }
   ],
   "source": [
    "#Read file\n",
    "song_data = spark.read.json(new_song_data_path)"
   ]
  },
  {
   "cell_type": "code",
   "execution_count": 5,
   "metadata": {
    "execution": {
     "iopub.execute_input": "2025-04-03T11:34:14.221729Z",
     "iopub.status.busy": "2025-04-03T11:34:14.221533Z",
     "iopub.status.idle": "2025-04-03T11:34:15.482882Z",
     "shell.execute_reply": "2025-04-03T11:34:15.482149Z",
     "shell.execute_reply.started": "2025-04-03T11:34:14.221705Z"
    },
    "tags": []
   },
   "outputs": [
    {
     "data": {
      "application/vnd.jupyter.widget-view+json": {
       "model_id": "67450985936146d4a8bb072bcbca3814",
       "version_major": 2,
       "version_minor": 0
      },
      "text/plain": [
       "VBox()"
      ]
     },
     "metadata": {},
     "output_type": "display_data"
    },
    {
     "data": {
      "application/vnd.jupyter.widget-view+json": {
       "model_id": "",
       "version_major": 2,
       "version_minor": 0
      },
      "text/plain": [
       "FloatProgress(value=0.0, bar_style='info', description='Progress:', layout=Layout(height='25px', width='50%'),…"
      ]
     },
     "metadata": {},
     "output_type": "display_data"
    },
    {
     "name": "stdout",
     "output_type": "stream",
     "text": [
      "+------------------+---------------+-----------------+----------------+--------------------+---------+---------+------------------+--------------------+----+\n",
      "|         artist_id|artist_latitude|  artist_location|artist_longitude|         artist_name| duration|num_songs|           song_id|               title|year|\n",
      "+------------------+---------------+-----------------+----------------+--------------------+---------+---------+------------------+--------------------+----+\n",
      "|ARDR4AC1187FB371A1|           NULL|                 |            NULL|Montserrat Caball...|511.16363|        1|SOBAYLL12A8C138AF9|Sono andati? Fing...|   0|\n",
      "|AREBBGV1187FB523D2|           NULL|      Houston, TX|            NULL|Mike Jones (Featu...|173.66159|        1|SOOLYAZ12A6701F4A6|Laws Patrolling (...|   0|\n",
      "|ARMAC4T1187FB3FA4C|       40.82624|Morris Plains, NJ|       -74.47995|The Dillinger Esc...|207.77751|        1|SOBBUGU12A8C13E95D|Setting Fire to S...|2004|\n",
      "|ARPBNLO1187FB3D52F|       40.71455|     New York, NY|       -74.00712|            Tiny Tim| 43.36281|        1|SOAOIBZ12AB01815BE|I Hold Your Hand ...|2000|\n",
      "|ARDNS031187B9924F0|       32.67828|          Georgia|       -83.22295|          Tim Wilson|186.48771|        1|SONYPOM12A8C13B2D7|I Think My Wife I...|2005|\n",
      "+------------------+---------------+-----------------+----------------+--------------------+---------+---------+------------------+--------------------+----+\n",
      "only showing top 5 rows"
     ]
    }
   ],
   "source": [
    "song_data.show(5)"
   ]
  },
  {
   "cell_type": "code",
   "execution_count": 6,
   "metadata": {
    "execution": {
     "iopub.execute_input": "2025-04-03T11:34:15.493665Z",
     "iopub.status.busy": "2025-04-03T11:34:15.493286Z",
     "iopub.status.idle": "2025-04-03T11:34:15.745892Z",
     "shell.execute_reply": "2025-04-03T11:34:15.745340Z",
     "shell.execute_reply.started": "2025-04-03T11:34:15.493629Z"
    },
    "tags": []
   },
   "outputs": [
    {
     "data": {
      "application/vnd.jupyter.widget-view+json": {
       "model_id": "65a20f851cab46bdac96c6b565f3b53f",
       "version_major": 2,
       "version_minor": 0
      },
      "text/plain": [
       "VBox()"
      ]
     },
     "metadata": {},
     "output_type": "display_data"
    },
    {
     "data": {
      "application/vnd.jupyter.widget-view+json": {
       "model_id": "",
       "version_major": 2,
       "version_minor": 0
      },
      "text/plain": [
       "FloatProgress(value=0.0, bar_style='info', description='Progress:', layout=Layout(height='25px', width='50%'),…"
      ]
     },
     "metadata": {},
     "output_type": "display_data"
    }
   ],
   "source": [
    "# extract columns to create songs table song_id, title, artist_id, year, duration****\n",
    "songs_table = song_data[\"song_id\", \"title\", \"artist_id\", \"year\", \"duration\", \"artist_name\"]\n",
    "songs_table = songs_table.drop_duplicates(subset=['song_id'])"
   ]
  },
  {
   "cell_type": "code",
   "execution_count": 7,
   "metadata": {
    "execution": {
     "iopub.execute_input": "2025-04-03T11:34:15.746959Z",
     "iopub.status.busy": "2025-04-03T11:34:15.746780Z",
     "iopub.status.idle": "2025-04-03T11:34:19.028838Z",
     "shell.execute_reply": "2025-04-03T11:34:19.028195Z",
     "shell.execute_reply.started": "2025-04-03T11:34:15.746936Z"
    },
    "tags": []
   },
   "outputs": [
    {
     "data": {
      "application/vnd.jupyter.widget-view+json": {
       "model_id": "9c95409c3882457f840bc7714c43c528",
       "version_major": 2,
       "version_minor": 0
      },
      "text/plain": [
       "VBox()"
      ]
     },
     "metadata": {},
     "output_type": "display_data"
    },
    {
     "data": {
      "application/vnd.jupyter.widget-view+json": {
       "model_id": "",
       "version_major": 2,
       "version_minor": 0
      },
      "text/plain": [
       "FloatProgress(value=0.0, bar_style='info', description='Progress:', layout=Layout(height='25px', width='50%'),…"
      ]
     },
     "metadata": {},
     "output_type": "display_data"
    },
    {
     "name": "stdout",
     "output_type": "stream",
     "text": [
      "+------------------+--------------------+------------------+----+---------+--------------------+\n",
      "|           song_id|               title|         artist_id|year| duration|         artist_name|\n",
      "+------------------+--------------------+------------------+----+---------+--------------------+\n",
      "|SOAOIBZ12AB01815BE|I Hold Your Hand ...|ARPBNLO1187FB3D52F|2000| 43.36281|            Tiny Tim|\n",
      "|SOBAYLL12A8C138AF9|Sono andati? Fing...|ARDR4AC1187FB371A1|   0|511.16363|Montserrat Caball...|\n",
      "|SOBBUGU12A8C13E95D|Setting Fire to S...|ARMAC4T1187FB3FA4C|2004|207.77751|The Dillinger Esc...|\n",
      "|SOBBXLX12A58A79DDA|Erica (2005 Digit...|AREDBBQ1187B98AFF5|   0|138.63138|       Eddie Calvert|\n",
      "+------------------+--------------------+------------------+----+---------+--------------------+\n",
      "only showing top 4 rows"
     ]
    }
   ],
   "source": [
    "songs_table.show(4)"
   ]
  },
  {
   "cell_type": "code",
   "execution_count": 8,
   "metadata": {
    "execution": {
     "iopub.execute_input": "2025-04-03T11:34:19.029950Z",
     "iopub.status.busy": "2025-04-03T11:34:19.029772Z",
     "iopub.status.idle": "2025-04-03T11:34:19.078358Z",
     "shell.execute_reply": "2025-04-03T11:34:19.077824Z",
     "shell.execute_reply.started": "2025-04-03T11:34:19.029927Z"
    },
    "tags": []
   },
   "outputs": [
    {
     "data": {
      "application/vnd.jupyter.widget-view+json": {
       "model_id": "011043f136264a80889144a6f4f86704",
       "version_major": 2,
       "version_minor": 0
      },
      "text/plain": [
       "VBox()"
      ]
     },
     "metadata": {},
     "output_type": "display_data"
    },
    {
     "data": {
      "application/vnd.jupyter.widget-view+json": {
       "model_id": "",
       "version_major": 2,
       "version_minor": 0
      },
      "text/plain": [
       "FloatProgress(value=0.0, bar_style='info', description='Progress:', layout=Layout(height='25px', width='50%'),…"
      ]
     },
     "metadata": {},
     "output_type": "display_data"
    }
   ],
   "source": [
    "outputfolderpath = \"s3://data-emr-bucket-store/subset-data/processed-data\""
   ]
  },
  {
   "cell_type": "code",
   "execution_count": 9,
   "metadata": {
    "execution": {
     "iopub.execute_input": "2025-04-03T11:34:19.079686Z",
     "iopub.status.busy": "2025-04-03T11:34:19.079445Z",
     "iopub.status.idle": "2025-04-03T11:34:34.393652Z",
     "shell.execute_reply": "2025-04-03T11:34:34.392899Z",
     "shell.execute_reply.started": "2025-04-03T11:34:19.079652Z"
    },
    "tags": []
   },
   "outputs": [
    {
     "data": {
      "application/vnd.jupyter.widget-view+json": {
       "model_id": "1d0ce754eb3e40a0b713135f257b9380",
       "version_major": 2,
       "version_minor": 0
      },
      "text/plain": [
       "VBox()"
      ]
     },
     "metadata": {},
     "output_type": "display_data"
    },
    {
     "data": {
      "application/vnd.jupyter.widget-view+json": {
       "model_id": "",
       "version_major": 2,
       "version_minor": 0
      },
      "text/plain": [
       "FloatProgress(value=0.0, bar_style='info', description='Progress:', layout=Layout(height='25px', width='50%'),…"
      ]
     },
     "metadata": {},
     "output_type": "display_data"
    }
   ],
   "source": [
    "# write songs table to parquet files partitioned by year and artist\n",
    "songs_table.write.partitionBy(\"year\", \"artist_id\").parquet(f\"{outputfolderpath}/songs_table.parquet\", \"overwrite\")"
   ]
  },
  {
   "cell_type": "code",
   "execution_count": 10,
   "metadata": {
    "execution": {
     "iopub.execute_input": "2025-04-03T11:34:34.394869Z",
     "iopub.status.busy": "2025-04-03T11:34:34.394665Z",
     "iopub.status.idle": "2025-04-03T11:34:37.665445Z",
     "shell.execute_reply": "2025-04-03T11:34:37.664866Z",
     "shell.execute_reply.started": "2025-04-03T11:34:34.394844Z"
    },
    "tags": []
   },
   "outputs": [
    {
     "data": {
      "application/vnd.jupyter.widget-view+json": {
       "model_id": "d08f08cea1884477aec04c7dc78acd48",
       "version_major": 2,
       "version_minor": 0
      },
      "text/plain": [
       "VBox()"
      ]
     },
     "metadata": {},
     "output_type": "display_data"
    },
    {
     "data": {
      "application/vnd.jupyter.widget-view+json": {
       "model_id": "",
       "version_major": 2,
       "version_minor": 0
      },
      "text/plain": [
       "FloatProgress(value=0.0, bar_style='info', description='Progress:', layout=Layout(height='25px', width='50%'),…"
      ]
     },
     "metadata": {},
     "output_type": "display_data"
    }
   ],
   "source": [
    "# extract columns to create artists table\n",
    "artists_table = song_data[\"artist_id\", \"artist_name\", \"artist_location\", \"artist_latitude\", \"artist_longitude\"]\n",
    "\n",
    "# write artists table to parquet files\n",
    "artists_table.write.parquet(f\"{outputfolderpath}/artists_table.parquet\", \"overwrite\")"
   ]
  },
  {
   "cell_type": "code",
   "execution_count": 11,
   "metadata": {
    "execution": {
     "iopub.execute_input": "2025-04-03T11:34:37.666496Z",
     "iopub.status.busy": "2025-04-03T11:34:37.666326Z",
     "iopub.status.idle": "2025-04-03T11:34:38.416078Z",
     "shell.execute_reply": "2025-04-03T11:34:38.415470Z",
     "shell.execute_reply.started": "2025-04-03T11:34:37.666473Z"
    },
    "tags": []
   },
   "outputs": [
    {
     "data": {
      "application/vnd.jupyter.widget-view+json": {
       "model_id": "ffc7d4ee412e4577be229af6811a0906",
       "version_major": 2,
       "version_minor": 0
      },
      "text/plain": [
       "VBox()"
      ]
     },
     "metadata": {},
     "output_type": "display_data"
    },
    {
     "data": {
      "application/vnd.jupyter.widget-view+json": {
       "model_id": "",
       "version_major": 2,
       "version_minor": 0
      },
      "text/plain": [
       "FloatProgress(value=0.0, bar_style='info', description='Progress:', layout=Layout(height='25px', width='50%'),…"
      ]
     },
     "metadata": {},
     "output_type": "display_data"
    },
    {
     "name": "stdout",
     "output_type": "stream",
     "text": [
      "+------------------+--------------------+-----------------+---------------+----------------+\n",
      "|         artist_id|         artist_name|  artist_location|artist_latitude|artist_longitude|\n",
      "+------------------+--------------------+-----------------+---------------+----------------+\n",
      "|ARDR4AC1187FB371A1|Montserrat Caball...|                 |           NULL|            NULL|\n",
      "|AREBBGV1187FB523D2|Mike Jones (Featu...|      Houston, TX|           NULL|            NULL|\n",
      "|ARMAC4T1187FB3FA4C|The Dillinger Esc...|Morris Plains, NJ|       40.82624|       -74.47995|\n",
      "|ARPBNLO1187FB3D52F|            Tiny Tim|     New York, NY|       40.71455|       -74.00712|\n",
      "+------------------+--------------------+-----------------+---------------+----------------+\n",
      "only showing top 4 rows"
     ]
    }
   ],
   "source": [
    "artists_table.show(4)"
   ]
  },
  {
   "cell_type": "code",
   "execution_count": null,
   "metadata": {},
   "outputs": [],
   "source": []
  },
  {
   "cell_type": "code",
   "execution_count": 12,
   "metadata": {
    "execution": {
     "iopub.execute_input": "2025-04-03T11:34:38.417212Z",
     "iopub.status.busy": "2025-04-03T11:34:38.417043Z",
     "iopub.status.idle": "2025-04-03T11:34:41.683787Z",
     "shell.execute_reply": "2025-04-03T11:34:41.683075Z",
     "shell.execute_reply.started": "2025-04-03T11:34:38.417190Z"
    },
    "tags": []
   },
   "outputs": [
    {
     "data": {
      "application/vnd.jupyter.widget-view+json": {
       "model_id": "a3b268228f38476793e7ea2670aa8fe4",
       "version_major": 2,
       "version_minor": 0
      },
      "text/plain": [
       "VBox()"
      ]
     },
     "metadata": {},
     "output_type": "display_data"
    },
    {
     "data": {
      "application/vnd.jupyter.widget-view+json": {
       "model_id": "",
       "version_major": 2,
       "version_minor": 0
      },
      "text/plain": [
       "FloatProgress(value=0.0, bar_style='info', description='Progress:', layout=Layout(height='25px', width='50%'),…"
      ]
     },
     "metadata": {},
     "output_type": "display_data"
    }
   ],
   "source": [
    "# get filepath to song data file\n",
    "log_data_path = \"s3://data-emr-bucket-store/subset-data/log-data/*.json\"\n",
    "dfLog = spark.read.json(log_data_path)"
   ]
  },
  {
   "cell_type": "code",
   "execution_count": 13,
   "metadata": {
    "execution": {
     "iopub.execute_input": "2025-04-03T11:34:41.684860Z",
     "iopub.status.busy": "2025-04-03T11:34:41.684685Z",
     "iopub.status.idle": "2025-04-03T11:34:41.729196Z",
     "shell.execute_reply": "2025-04-03T11:34:41.728515Z",
     "shell.execute_reply.started": "2025-04-03T11:34:41.684837Z"
    },
    "tags": []
   },
   "outputs": [
    {
     "data": {
      "application/vnd.jupyter.widget-view+json": {
       "model_id": "085a905f3daf42f2982f77fd21534dab",
       "version_major": 2,
       "version_minor": 0
      },
      "text/plain": [
       "VBox()"
      ]
     },
     "metadata": {},
     "output_type": "display_data"
    },
    {
     "data": {
      "application/vnd.jupyter.widget-view+json": {
       "model_id": "",
       "version_major": 2,
       "version_minor": 0
      },
      "text/plain": [
       "FloatProgress(value=0.0, bar_style='info', description='Progress:', layout=Layout(height='25px', width='50%'),…"
      ]
     },
     "metadata": {},
     "output_type": "display_data"
    },
    {
     "name": "stdout",
     "output_type": "stream",
     "text": [
      "root\n",
      " |-- artist: string (nullable = true)\n",
      " |-- auth: string (nullable = true)\n",
      " |-- firstName: string (nullable = true)\n",
      " |-- gender: string (nullable = true)\n",
      " |-- itemInSession: long (nullable = true)\n",
      " |-- lastName: string (nullable = true)\n",
      " |-- length: double (nullable = true)\n",
      " |-- level: string (nullable = true)\n",
      " |-- location: string (nullable = true)\n",
      " |-- method: string (nullable = true)\n",
      " |-- page: string (nullable = true)\n",
      " |-- registration: double (nullable = true)\n",
      " |-- sessionId: long (nullable = true)\n",
      " |-- song: string (nullable = true)\n",
      " |-- status: long (nullable = true)\n",
      " |-- ts: long (nullable = true)\n",
      " |-- userAgent: string (nullable = true)\n",
      " |-- userId: string (nullable = true)"
     ]
    }
   ],
   "source": [
    "dfLog.printSchema()"
   ]
  },
  {
   "cell_type": "code",
   "execution_count": 14,
   "metadata": {
    "execution": {
     "iopub.execute_input": "2025-04-03T11:34:41.730198Z",
     "iopub.status.busy": "2025-04-03T11:34:41.730017Z",
     "iopub.status.idle": "2025-04-03T11:34:42.484836Z",
     "shell.execute_reply": "2025-04-03T11:34:42.484122Z",
     "shell.execute_reply.started": "2025-04-03T11:34:41.730175Z"
    },
    "tags": []
   },
   "outputs": [
    {
     "data": {
      "application/vnd.jupyter.widget-view+json": {
       "model_id": "d4ba0955c6f149648d2b7b259a3192f9",
       "version_major": 2,
       "version_minor": 0
      },
      "text/plain": [
       "VBox()"
      ]
     },
     "metadata": {},
     "output_type": "display_data"
    },
    {
     "data": {
      "application/vnd.jupyter.widget-view+json": {
       "model_id": "",
       "version_major": 2,
       "version_minor": 0
      },
      "text/plain": [
       "FloatProgress(value=0.0, bar_style='info', description='Progress:', layout=Layout(height='25px', width='50%'),…"
      ]
     },
     "metadata": {},
     "output_type": "display_data"
    },
    {
     "name": "stdout",
     "output_type": "stream",
     "text": [
      "+-----------+---------+---------+------+-------------+--------+---------+-----+--------------------+------+--------+-----------------+---------+---------------+------+-------------+--------------------+------+\n",
      "|     artist|     auth|firstName|gender|itemInSession|lastName|   length|level|            location|method|    page|     registration|sessionId|           song|status|           ts|           userAgent|userId|\n",
      "+-----------+---------+---------+------+-------------+--------+---------+-----+--------------------+------+--------+-----------------+---------+---------------+------+-------------+--------------------+------+\n",
      "|   Harmonia|Logged In|     Ryan|     M|            0|   Smith|655.77751| free|San Jose-Sunnyval...|   PUT|NextSong|1.541016707796E12|      583|  Sehr kosmisch|   200|1542241826796|\"Mozilla/5.0 (X11...|    26|\n",
      "|The Prodigy|Logged In|     Ryan|     M|            1|   Smith|260.07465| free|San Jose-Sunnyval...|   PUT|NextSong|1.541016707796E12|      583|The Big Gundown|   200|1542242481796|\"Mozilla/5.0 (X11...|    26|\n",
      "|      Train|Logged In|     Ryan|     M|            2|   Smith|205.45261| free|San Jose-Sunnyval...|   PUT|NextSong|1.541016707796E12|      583|       Marry Me|   200|1542242741796|\"Mozilla/5.0 (X11...|    26|\n",
      "|       NULL|Logged In|    Wyatt|     M|            0|   Scott|     NULL| free|Eureka-Arcata-For...|   GET|    Home|1.540872073796E12|      563|           NULL|   200|1542247071796|Mozilla/5.0 (Wind...|     9|\n",
      "|       NULL|Logged In|   Austin|     M|            0| Rosales|     NULL| free|New York-Newark-J...|   GET|    Home|1.541059521796E12|      521|           NULL|   200|1542252577796|Mozilla/5.0 (Wind...|    12|\n",
      "+-----------+---------+---------+------+-------------+--------+---------+-----+--------------------+------+--------+-----------------+---------+---------------+------+-------------+--------------------+------+\n",
      "only showing top 5 rows"
     ]
    }
   ],
   "source": [
    "dfLog.show(5)"
   ]
  },
  {
   "cell_type": "code",
   "execution_count": 15,
   "metadata": {
    "execution": {
     "iopub.execute_input": "2025-04-03T11:34:42.485922Z",
     "iopub.status.busy": "2025-04-03T11:34:42.485748Z",
     "iopub.status.idle": "2025-04-03T11:34:42.733341Z",
     "shell.execute_reply": "2025-04-03T11:34:42.732772Z",
     "shell.execute_reply.started": "2025-04-03T11:34:42.485899Z"
    },
    "tags": []
   },
   "outputs": [
    {
     "data": {
      "application/vnd.jupyter.widget-view+json": {
       "model_id": "eae6fd61b6c245ef9239ba429ab935bb",
       "version_major": 2,
       "version_minor": 0
      },
      "text/plain": [
       "VBox()"
      ]
     },
     "metadata": {},
     "output_type": "display_data"
    },
    {
     "data": {
      "application/vnd.jupyter.widget-view+json": {
       "model_id": "",
       "version_major": 2,
       "version_minor": 0
      },
      "text/plain": [
       "FloatProgress(value=0.0, bar_style='info', description='Progress:', layout=Layout(height='25px', width='50%'),…"
      ]
     },
     "metadata": {},
     "output_type": "display_data"
    }
   ],
   "source": [
    "# filter by actions for song plays\n",
    "df_plays = dfLog.where(dfLog.page == \"NextSong\")"
   ]
  },
  {
   "cell_type": "code",
   "execution_count": 16,
   "metadata": {
    "execution": {
     "iopub.execute_input": "2025-04-03T11:34:42.734431Z",
     "iopub.status.busy": "2025-04-03T11:34:42.734267Z",
     "iopub.status.idle": "2025-04-03T11:34:43.994412Z",
     "shell.execute_reply": "2025-04-03T11:34:43.993697Z",
     "shell.execute_reply.started": "2025-04-03T11:34:42.734410Z"
    },
    "tags": []
   },
   "outputs": [
    {
     "data": {
      "application/vnd.jupyter.widget-view+json": {
       "model_id": "41f50e068ba54940a00316bb2badc2f6",
       "version_major": 2,
       "version_minor": 0
      },
      "text/plain": [
       "VBox()"
      ]
     },
     "metadata": {},
     "output_type": "display_data"
    },
    {
     "data": {
      "application/vnd.jupyter.widget-view+json": {
       "model_id": "",
       "version_major": 2,
       "version_minor": 0
      },
      "text/plain": [
       "FloatProgress(value=0.0, bar_style='info', description='Progress:', layout=Layout(height='25px', width='50%'),…"
      ]
     },
     "metadata": {},
     "output_type": "display_data"
    },
    {
     "name": "stdout",
     "output_type": "stream",
     "text": [
      "6820"
     ]
    }
   ],
   "source": [
    "df_plays.count()"
   ]
  },
  {
   "cell_type": "code",
   "execution_count": 17,
   "metadata": {
    "execution": {
     "iopub.execute_input": "2025-04-03T11:34:43.995675Z",
     "iopub.status.busy": "2025-04-03T11:34:43.995429Z",
     "iopub.status.idle": "2025-04-03T11:34:44.774232Z",
     "shell.execute_reply": "2025-04-03T11:34:44.773586Z",
     "shell.execute_reply.started": "2025-04-03T11:34:43.995638Z"
    },
    "tags": []
   },
   "outputs": [
    {
     "data": {
      "application/vnd.jupyter.widget-view+json": {
       "model_id": "f07391c3e81e454485ff141de8b07141",
       "version_major": 2,
       "version_minor": 0
      },
      "text/plain": [
       "VBox()"
      ]
     },
     "metadata": {},
     "output_type": "display_data"
    },
    {
     "data": {
      "application/vnd.jupyter.widget-view+json": {
       "model_id": "",
       "version_major": 2,
       "version_minor": 0
      },
      "text/plain": [
       "FloatProgress(value=0.0, bar_style='info', description='Progress:', layout=Layout(height='25px', width='50%'),…"
      ]
     },
     "metadata": {},
     "output_type": "display_data"
    },
    {
     "name": "stdout",
     "output_type": "stream",
     "text": [
      "+-----------+---------+---------+------+-------------+--------+---------+-----+--------------------+------+--------+-----------------+---------+--------------------+------+-------------+--------------------+------+\n",
      "|     artist|     auth|firstName|gender|itemInSession|lastName|   length|level|            location|method|    page|     registration|sessionId|                song|status|           ts|           userAgent|userId|\n",
      "+-----------+---------+---------+------+-------------+--------+---------+-----+--------------------+------+--------+-----------------+---------+--------------------+------+-------------+--------------------+------+\n",
      "|   Harmonia|Logged In|     Ryan|     M|            0|   Smith|655.77751| free|San Jose-Sunnyval...|   PUT|NextSong|1.541016707796E12|      583|       Sehr kosmisch|   200|1542241826796|\"Mozilla/5.0 (X11...|    26|\n",
      "|The Prodigy|Logged In|     Ryan|     M|            1|   Smith|260.07465| free|San Jose-Sunnyval...|   PUT|NextSong|1.541016707796E12|      583|     The Big Gundown|   200|1542242481796|\"Mozilla/5.0 (X11...|    26|\n",
      "|      Train|Logged In|     Ryan|     M|            2|   Smith|205.45261| free|San Jose-Sunnyval...|   PUT|NextSong|1.541016707796E12|      583|            Marry Me|   200|1542242741796|\"Mozilla/5.0 (X11...|    26|\n",
      "|Sony Wonder|Logged In|   Samuel|     M|            0|Gonzalez|218.06975| free|Houston-The Woodl...|   PUT|NextSong|1.540492941796E12|      597|           Blackbird|   200|1542253449796|\"Mozilla/5.0 (Mac...|    61|\n",
      "|  Van Halen|Logged In|    Tegan|     F|            2|  Levine|289.38404| paid|Portland-South Po...|   PUT|NextSong|1.540794356796E12|      602|Best Of Both Worl...|   200|1542260935796|\"Mozilla/5.0 (Mac...|    80|\n",
      "+-----------+---------+---------+------+-------------+--------+---------+-----+--------------------+------+--------+-----------------+---------+--------------------+------+-------------+--------------------+------+\n",
      "only showing top 5 rows"
     ]
    }
   ],
   "source": [
    "df_plays.show(5)"
   ]
  },
  {
   "cell_type": "code",
   "execution_count": 18,
   "metadata": {
    "execution": {
     "iopub.execute_input": "2025-04-03T11:34:44.778061Z",
     "iopub.status.busy": "2025-04-03T11:34:44.775332Z",
     "iopub.status.idle": "2025-04-03T11:34:48.051498Z",
     "shell.execute_reply": "2025-04-03T11:34:48.050731Z",
     "shell.execute_reply.started": "2025-04-03T11:34:44.778033Z"
    },
    "tags": []
   },
   "outputs": [
    {
     "data": {
      "application/vnd.jupyter.widget-view+json": {
       "model_id": "6d330cf72f2347aea55eee55a05e5763",
       "version_major": 2,
       "version_minor": 0
      },
      "text/plain": [
       "VBox()"
      ]
     },
     "metadata": {},
     "output_type": "display_data"
    },
    {
     "data": {
      "application/vnd.jupyter.widget-view+json": {
       "model_id": "",
       "version_major": 2,
       "version_minor": 0
      },
      "text/plain": [
       "FloatProgress(value=0.0, bar_style='info', description='Progress:', layout=Layout(height='25px', width='50%'),…"
      ]
     },
     "metadata": {},
     "output_type": "display_data"
    }
   ],
   "source": [
    "# extract columns for users table\n",
    "# columns for users - user_id, first_name, last_name, gender, level****\n",
    "\n",
    "users_table = df_plays[\"userid\", \"firstName\", \"lastName\", \"gender\", \"level\", \"ts\"]\n",
    "users_table = users_table.orderBy(\"ts\",ascending=False).dropDuplicates(subset=[\"userId\"]).drop('ts')\n",
    "\n",
    "# write users table to parquet files\n",
    "users_table.write.parquet(f\"{outputfolderpath}/users.parquet\", \"overwrite\")\n"
   ]
  },
  {
   "cell_type": "code",
   "execution_count": 19,
   "metadata": {
    "execution": {
     "iopub.execute_input": "2025-04-03T11:34:48.053231Z",
     "iopub.status.busy": "2025-04-03T11:34:48.052750Z",
     "iopub.status.idle": "2025-04-03T11:34:50.343061Z",
     "shell.execute_reply": "2025-04-03T11:34:50.342210Z",
     "shell.execute_reply.started": "2025-04-03T11:34:48.053194Z"
    },
    "tags": []
   },
   "outputs": [
    {
     "data": {
      "application/vnd.jupyter.widget-view+json": {
       "model_id": "2441c1b60f894dae8ae01eed8fc56599",
       "version_major": 2,
       "version_minor": 0
      },
      "text/plain": [
       "VBox()"
      ]
     },
     "metadata": {},
     "output_type": "display_data"
    },
    {
     "data": {
      "application/vnd.jupyter.widget-view+json": {
       "model_id": "",
       "version_major": 2,
       "version_minor": 0
      },
      "text/plain": [
       "FloatProgress(value=0.0, bar_style='info', description='Progress:', layout=Layout(height='25px', width='50%'),…"
      ]
     },
     "metadata": {},
     "output_type": "display_data"
    },
    {
     "name": "stdout",
     "output_type": "stream",
     "text": [
      "+------+---------+--------+------+-----+\n",
      "|userid|firstName|lastName|gender|level|\n",
      "+------+---------+--------+------+-----+\n",
      "|    10|   Sylvie|    Cruz|     F| free|\n",
      "|   100|    Adler| Barrera|     M| free|\n",
      "|   101|   Jayden|     Fox|     M| free|\n",
      "|    11|Christian|  Porter|     F| free|\n",
      "|    12|   Austin| Rosales|     M| free|\n",
      "|    13|      Ava|Robinson|     F| free|\n",
      "|    14| Theodore|  Harris|     M| free|\n",
      "|    15|     Lily|    Koch|     F| paid|\n",
      "|    16|    Rylan|  George|     M| paid|\n",
      "|    17| Makinley|   Jones|     F| free|\n",
      "|    18|    Jacob|  Rogers|     M| free|\n",
      "|    19|  Zachary|  Thomas|     M| free|\n",
      "|     2|  Jizelle|Benjamin|     F| free|\n",
      "|    20|    Aiden| Ramirez|     M| paid|\n",
      "|    22|     Sean|  Wilson|     F| free|\n",
      "|    23|   Morris| Gilmore|     M| free|\n",
      "|    24|    Layla| Griffin|     F| paid|\n",
      "|    25|   Jayden|  Graves|     M| paid|\n",
      "|    26|     Ryan|   Smith|     M| free|\n",
      "|    27|   Carlos|  Carter|     M| free|\n",
      "+------+---------+--------+------+-----+\n",
      "only showing top 20 rows"
     ]
    }
   ],
   "source": [
    "users_table.show()"
   ]
  },
  {
   "cell_type": "code",
   "execution_count": 20,
   "metadata": {
    "execution": {
     "iopub.execute_input": "2025-04-03T11:34:50.354750Z",
     "iopub.status.busy": "2025-04-03T11:34:50.354529Z",
     "iopub.status.idle": "2025-04-03T11:34:50.833337Z",
     "shell.execute_reply": "2025-04-03T11:34:50.826800Z",
     "shell.execute_reply.started": "2025-04-03T11:34:50.354724Z"
    },
    "tags": []
   },
   "outputs": [
    {
     "data": {
      "application/vnd.jupyter.widget-view+json": {
       "model_id": "07d8605ed33e4d29aa3bc2044361709f",
       "version_major": 2,
       "version_minor": 0
      },
      "text/plain": [
       "VBox()"
      ]
     },
     "metadata": {},
     "output_type": "display_data"
    },
    {
     "data": {
      "application/vnd.jupyter.widget-view+json": {
       "model_id": "",
       "version_major": 2,
       "version_minor": 0
      },
      "text/plain": [
       "FloatProgress(value=0.0, bar_style='info', description='Progress:', layout=Layout(height='25px', width='50%'),…"
      ]
     },
     "metadata": {},
     "output_type": "display_data"
    }
   ],
   "source": [
    "# create timestamp column from original timestamp column\n",
    "get_datetime = udf(lambda x: datetime.fromtimestamp(int(int(x)/1000)), TimestampType())\n",
    "get_weekday = udf(lambda x: x.weekday())\n",
    "get_week = udf(lambda x: datetime.isocalendar(x)[1])\n",
    "get_hour = udf(lambda x: x.hour)\n",
    "get_day = udf(lambda x: x.day)\n",
    "get_year = udf(lambda x: x.year)\n",
    "get_month = udf(lambda x: x.month)\n",
    "\n",
    "df_plays = df_plays.withColumn(\"start_time\", get_datetime(df_plays.ts))\n",
    "df_plays = df_plays.withColumn(\"week_day\", get_weekday(df_plays.start_time))\n",
    "df_plays = df_plays.withColumn(\"week\", get_week(df_plays.start_time))\n",
    "df_plays = df_plays.withColumn(\"hour\", get_hour(df_plays.start_time))\n",
    "df_plays = df_plays.withColumn(\"day\", get_day(df_plays.start_time))\n",
    "df_plays = df_plays.withColumn(\"year\", get_year(df_plays.start_time))\n",
    "df_plays = df_plays.withColumn(\"month\", get_month(df_plays.start_time))\n",
    "\n"
   ]
  },
  {
   "cell_type": "code",
   "execution_count": 21,
   "metadata": {
    "execution": {
     "iopub.execute_input": "2025-04-03T11:34:50.834563Z",
     "iopub.status.busy": "2025-04-03T11:34:50.834367Z",
     "iopub.status.idle": "2025-04-03T11:34:51.082606Z",
     "shell.execute_reply": "2025-04-03T11:34:51.081966Z",
     "shell.execute_reply.started": "2025-04-03T11:34:50.834526Z"
    },
    "tags": []
   },
   "outputs": [
    {
     "data": {
      "application/vnd.jupyter.widget-view+json": {
       "model_id": "14a8df6634744dde996dd1c5e13c0a0b",
       "version_major": 2,
       "version_minor": 0
      },
      "text/plain": [
       "VBox()"
      ]
     },
     "metadata": {},
     "output_type": "display_data"
    },
    {
     "data": {
      "application/vnd.jupyter.widget-view+json": {
       "model_id": "",
       "version_major": 2,
       "version_minor": 0
      },
      "text/plain": [
       "FloatProgress(value=0.0, bar_style='info', description='Progress:', layout=Layout(height='25px', width='50%'),…"
      ]
     },
     "metadata": {},
     "output_type": "display_data"
    }
   ],
   "source": [
    "# extract columns to create time table\n",
    "time_table = df_plays.select(\"start_time\",\"hour\", \"day\", \"week\", \"month\", \"year\", \"week_day\")\n"
   ]
  },
  {
   "cell_type": "code",
   "execution_count": 22,
   "metadata": {
    "execution": {
     "iopub.execute_input": "2025-04-03T11:34:51.083798Z",
     "iopub.status.busy": "2025-04-03T11:34:51.083612Z",
     "iopub.status.idle": "2025-04-03T11:34:52.342187Z",
     "shell.execute_reply": "2025-04-03T11:34:52.341574Z",
     "shell.execute_reply.started": "2025-04-03T11:34:51.083773Z"
    },
    "tags": []
   },
   "outputs": [
    {
     "data": {
      "application/vnd.jupyter.widget-view+json": {
       "model_id": "f91addad19114799bb1045f334c80db8",
       "version_major": 2,
       "version_minor": 0
      },
      "text/plain": [
       "VBox()"
      ]
     },
     "metadata": {},
     "output_type": "display_data"
    },
    {
     "data": {
      "application/vnd.jupyter.widget-view+json": {
       "model_id": "",
       "version_major": 2,
       "version_minor": 0
      },
      "text/plain": [
       "FloatProgress(value=0.0, bar_style='info', description='Progress:', layout=Layout(height='25px', width='50%'),…"
      ]
     },
     "metadata": {},
     "output_type": "display_data"
    },
    {
     "name": "stdout",
     "output_type": "stream",
     "text": [
      "+-------------------+----+---+----+-----+----+--------+\n",
      "|         start_time|hour|day|week|month|year|week_day|\n",
      "+-------------------+----+---+----+-----+----+--------+\n",
      "|2018-11-15 00:30:26|   0| 15|  46|   11|2018|       3|\n",
      "|2018-11-15 00:41:21|   0| 15|  46|   11|2018|       3|\n",
      "|2018-11-15 00:45:41|   0| 15|  46|   11|2018|       3|\n",
      "|2018-11-15 03:44:09|   3| 15|  46|   11|2018|       3|\n",
      "|2018-11-15 05:48:55|   5| 15|  46|   11|2018|       3|\n",
      "|2018-11-15 05:53:44|   5| 15|  46|   11|2018|       3|\n",
      "|2018-11-15 05:55:56|   5| 15|  46|   11|2018|       3|\n",
      "|2018-11-15 06:01:02|   6| 15|  46|   11|2018|       3|\n",
      "|2018-11-15 06:07:37|   6| 15|  46|   11|2018|       3|\n",
      "|2018-11-15 06:10:33|   6| 15|  46|   11|2018|       3|\n",
      "|2018-11-15 06:13:54|   6| 15|  46|   11|2018|       3|\n",
      "|2018-11-15 06:14:16|   6| 15|  46|   11|2018|       3|\n",
      "|2018-11-15 06:17:59|   6| 15|  46|   11|2018|       3|\n",
      "|2018-11-15 06:18:48|   6| 15|  46|   11|2018|       3|\n",
      "|2018-11-15 06:21:33|   6| 15|  46|   11|2018|       3|\n",
      "|2018-11-15 06:25:58|   6| 15|  46|   11|2018|       3|\n",
      "|2018-11-15 06:29:38|   6| 15|  46|   11|2018|       3|\n",
      "|2018-11-15 07:08:36|   7| 15|  46|   11|2018|       3|\n",
      "|2018-11-15 07:12:09|   7| 15|  46|   11|2018|       3|\n",
      "|2018-11-15 07:28:47|   7| 15|  46|   11|2018|       3|\n",
      "+-------------------+----+---+----+-----+----+--------+\n",
      "only showing top 20 rows"
     ]
    }
   ],
   "source": [
    "time_table.show()"
   ]
  },
  {
   "cell_type": "code",
   "execution_count": 23,
   "metadata": {
    "execution": {
     "iopub.execute_input": "2025-04-03T11:34:52.343336Z",
     "iopub.status.busy": "2025-04-03T11:34:52.343171Z",
     "iopub.status.idle": "2025-04-03T11:34:54.606508Z",
     "shell.execute_reply": "2025-04-03T11:34:54.605860Z",
     "shell.execute_reply.started": "2025-04-03T11:34:52.343314Z"
    },
    "tags": []
   },
   "outputs": [
    {
     "data": {
      "application/vnd.jupyter.widget-view+json": {
       "model_id": "8f8bfce0288b4594ae0b17c1cdea0622",
       "version_major": 2,
       "version_minor": 0
      },
      "text/plain": [
       "VBox()"
      ]
     },
     "metadata": {},
     "output_type": "display_data"
    },
    {
     "data": {
      "application/vnd.jupyter.widget-view+json": {
       "model_id": "",
       "version_major": 2,
       "version_minor": 0
      },
      "text/plain": [
       "FloatProgress(value=0.0, bar_style='info', description='Progress:', layout=Layout(height='25px', width='50%'),…"
      ]
     },
     "metadata": {},
     "output_type": "display_data"
    }
   ],
   "source": [
    "# write time table to parquet files partitioned by year and month\n",
    "time_table.write.partitionBy(\"year\", \"month\").parquet(f\"{outputfolderpath}/time_table.parquet\", \"overwrite\")"
   ]
  },
  {
   "cell_type": "raw",
   "metadata": {},
   "source": [
    "# read in song data to use for songplays table\n",
    "song_df = spark.read.json(\"data/song_data/*/*/*/*.json\")"
   ]
  },
  {
   "cell_type": "code",
   "execution_count": 24,
   "metadata": {
    "execution": {
     "iopub.execute_input": "2025-04-03T11:34:54.607814Z",
     "iopub.status.busy": "2025-04-03T11:34:54.607560Z",
     "iopub.status.idle": "2025-04-03T11:34:55.390966Z",
     "shell.execute_reply": "2025-04-03T11:34:55.390350Z",
     "shell.execute_reply.started": "2025-04-03T11:34:54.607776Z"
    },
    "tags": []
   },
   "outputs": [
    {
     "data": {
      "application/vnd.jupyter.widget-view+json": {
       "model_id": "522a9b45755e402993aa3859cd8817d3",
       "version_major": 2,
       "version_minor": 0
      },
      "text/plain": [
       "VBox()"
      ]
     },
     "metadata": {},
     "output_type": "display_data"
    },
    {
     "data": {
      "application/vnd.jupyter.widget-view+json": {
       "model_id": "",
       "version_major": 2,
       "version_minor": 0
      },
      "text/plain": [
       "FloatProgress(value=0.0, bar_style='info', description='Progress:', layout=Layout(height='25px', width='50%'),…"
      ]
     },
     "metadata": {},
     "output_type": "display_data"
    },
    {
     "name": "stdout",
     "output_type": "stream",
     "text": [
      "+------------------+---------------+-----------------+----------------+--------------------+---------+---------+------------------+--------------------+----+\n",
      "|         artist_id|artist_latitude|  artist_location|artist_longitude|         artist_name| duration|num_songs|           song_id|               title|year|\n",
      "+------------------+---------------+-----------------+----------------+--------------------+---------+---------+------------------+--------------------+----+\n",
      "|ARDR4AC1187FB371A1|           NULL|                 |            NULL|Montserrat Caball...|511.16363|        1|SOBAYLL12A8C138AF9|Sono andati? Fing...|   0|\n",
      "|AREBBGV1187FB523D2|           NULL|      Houston, TX|            NULL|Mike Jones (Featu...|173.66159|        1|SOOLYAZ12A6701F4A6|Laws Patrolling (...|   0|\n",
      "|ARMAC4T1187FB3FA4C|       40.82624|Morris Plains, NJ|       -74.47995|The Dillinger Esc...|207.77751|        1|SOBBUGU12A8C13E95D|Setting Fire to S...|2004|\n",
      "|ARPBNLO1187FB3D52F|       40.71455|     New York, NY|       -74.00712|            Tiny Tim| 43.36281|        1|SOAOIBZ12AB01815BE|I Hold Your Hand ...|2000|\n",
      "+------------------+---------------+-----------------+----------------+--------------------+---------+---------+------------------+--------------------+----+\n",
      "only showing top 4 rows"
     ]
    }
   ],
   "source": [
    "song_data.show(4)"
   ]
  },
  {
   "cell_type": "code",
   "execution_count": 31,
   "metadata": {
    "execution": {
     "iopub.execute_input": "2025-04-03T11:44:16.183657Z",
     "iopub.status.busy": "2025-04-03T11:44:16.183423Z",
     "iopub.status.idle": "2025-04-03T11:44:25.494021Z",
     "shell.execute_reply": "2025-04-03T11:44:25.493324Z",
     "shell.execute_reply.started": "2025-04-03T11:44:16.183631Z"
    }
   },
   "outputs": [
    {
     "data": {
      "application/vnd.jupyter.widget-view+json": {
       "model_id": "f7c05f31c62b44279aad031dccb34648",
       "version_major": 2,
       "version_minor": 0
      },
      "text/plain": [
       "VBox()"
      ]
     },
     "metadata": {},
     "output_type": "display_data"
    },
    {
     "data": {
      "application/vnd.jupyter.widget-view+json": {
       "model_id": "",
       "version_major": 2,
       "version_minor": 0
      },
      "text/plain": [
       "FloatProgress(value=0.0, bar_style='info', description='Progress:', layout=Layout(height='25px', width='50%'),…"
      ]
     },
     "metadata": {},
     "output_type": "display_data"
    },
    {
     "name": "stdout",
     "output_type": "stream",
     "text": [
      "+-----------+---------+---------+------+-------------+--------+---------+-----+--------------------+------+--------+-----------------+---------+---------------+------+-------------+--------------------+------+-------------------+--------+----+----+---+----+-----+\n",
      "|     artist|     auth|firstName|gender|itemInSession|lastName|   length|level|            location|method|    page|     registration|sessionId|           song|status|           ts|           userAgent|userId|         start_time|week_day|week|hour|day|year|month|\n",
      "+-----------+---------+---------+------+-------------+--------+---------+-----+--------------------+------+--------+-----------------+---------+---------------+------+-------------+--------------------+------+-------------------+--------+----+----+---+----+-----+\n",
      "|   Harmonia|Logged In|     Ryan|     M|            0|   Smith|655.77751| free|San Jose-Sunnyval...|   PUT|NextSong|1.541016707796E12|      583|  Sehr kosmisch|   200|1542241826796|\"Mozilla/5.0 (X11...|    26|2018-11-15 00:30:26|       3|  46|   0| 15|2018|   11|\n",
      "|The Prodigy|Logged In|     Ryan|     M|            1|   Smith|260.07465| free|San Jose-Sunnyval...|   PUT|NextSong|1.541016707796E12|      583|The Big Gundown|   200|1542242481796|\"Mozilla/5.0 (X11...|    26|2018-11-15 00:41:21|       3|  46|   0| 15|2018|   11|\n",
      "|      Train|Logged In|     Ryan|     M|            2|   Smith|205.45261| free|San Jose-Sunnyval...|   PUT|NextSong|1.541016707796E12|      583|       Marry Me|   200|1542242741796|\"Mozilla/5.0 (X11...|    26|2018-11-15 00:45:41|       3|  46|   0| 15|2018|   11|\n",
      "|Sony Wonder|Logged In|   Samuel|     M|            0|Gonzalez|218.06975| free|Houston-The Woodl...|   PUT|NextSong|1.540492941796E12|      597|      Blackbird|   200|1542253449796|\"Mozilla/5.0 (Mac...|    61|2018-11-15 03:44:09|       3|  46|   3| 15|2018|   11|\n",
      "+-----------+---------+---------+------+-------------+--------+---------+-----+--------------------+------+--------+-----------------+---------+---------------+------+-------------+--------------------+------+-------------------+--------+----+----+---+----+-----+\n",
      "only showing top 4 rows"
     ]
    }
   ],
   "source": [
    "df_plays.show(4)"
   ]
  },
  {
   "cell_type": "code",
   "execution_count": 32,
   "metadata": {
    "execution": {
     "iopub.execute_input": "2025-04-03T11:45:25.032608Z",
     "iopub.status.busy": "2025-04-03T11:45:25.032377Z",
     "iopub.status.idle": "2025-04-03T11:45:25.276797Z",
     "shell.execute_reply": "2025-04-03T11:45:25.276090Z",
     "shell.execute_reply.started": "2025-04-03T11:45:25.032583Z"
    },
    "tags": []
   },
   "outputs": [
    {
     "data": {
      "application/vnd.jupyter.widget-view+json": {
       "model_id": "ce89044ef3c041bdb1a80a1b1523e942",
       "version_major": 2,
       "version_minor": 0
      },
      "text/plain": [
       "VBox()"
      ]
     },
     "metadata": {},
     "output_type": "display_data"
    },
    {
     "data": {
      "application/vnd.jupyter.widget-view+json": {
       "model_id": "",
       "version_major": 2,
       "version_minor": 0
      },
      "text/plain": [
       "FloatProgress(value=0.0, bar_style='info', description='Progress:', layout=Layout(height='25px', width='50%'),…"
      ]
     },
     "metadata": {},
     "output_type": "display_data"
    }
   ],
   "source": [
    "# songplay_id, start_time, userId, level, song_id, artist_id, sessionId, location, userAgent\n",
    "\n",
    "df_total = song_data.join(df_plays, (song_data.title == df_plays.song) )\n"
   ]
  },
  {
   "cell_type": "code",
   "execution_count": 33,
   "metadata": {
    "execution": {
     "iopub.execute_input": "2025-04-03T11:45:26.142094Z",
     "iopub.status.busy": "2025-04-03T11:45:26.141880Z",
     "iopub.status.idle": "2025-04-03T11:45:26.396427Z",
     "shell.execute_reply": "2025-04-03T11:45:26.395681Z",
     "shell.execute_reply.started": "2025-04-03T11:45:26.142070Z"
    },
    "tags": []
   },
   "outputs": [
    {
     "data": {
      "application/vnd.jupyter.widget-view+json": {
       "model_id": "5fea9003a5984f09a9eab721245f07c1",
       "version_major": 2,
       "version_minor": 0
      },
      "text/plain": [
       "VBox()"
      ]
     },
     "metadata": {},
     "output_type": "display_data"
    },
    {
     "data": {
      "application/vnd.jupyter.widget-view+json": {
       "model_id": "",
       "version_major": 2,
       "version_minor": 0
      },
      "text/plain": [
       "FloatProgress(value=0.0, bar_style='info', description='Progress:', layout=Layout(height='25px', width='50%'),…"
      ]
     },
     "metadata": {},
     "output_type": "display_data"
    }
   ],
   "source": [
    "songplay = df_total[\"start_time\", \"userId\", \"level\", \"song_id\", \"artist_id\", \"sessionId\", \"location\", \"userAgent\"]"
   ]
  },
  {
   "cell_type": "code",
   "execution_count": 34,
   "metadata": {
    "execution": {
     "iopub.execute_input": "2025-04-03T11:45:27.438049Z",
     "iopub.status.busy": "2025-04-03T11:45:27.437818Z",
     "iopub.status.idle": "2025-04-03T11:45:42.767126Z",
     "shell.execute_reply": "2025-04-03T11:45:42.766404Z",
     "shell.execute_reply.started": "2025-04-03T11:45:27.438023Z"
    },
    "tags": []
   },
   "outputs": [
    {
     "data": {
      "application/vnd.jupyter.widget-view+json": {
       "model_id": "85ab8b4a2b944a108f57c1c53e3a768d",
       "version_major": 2,
       "version_minor": 0
      },
      "text/plain": [
       "VBox()"
      ]
     },
     "metadata": {},
     "output_type": "display_data"
    },
    {
     "data": {
      "application/vnd.jupyter.widget-view+json": {
       "model_id": "",
       "version_major": 2,
       "version_minor": 0
      },
      "text/plain": [
       "FloatProgress(value=0.0, bar_style='info', description='Progress:', layout=Layout(height='25px', width='50%'),…"
      ]
     },
     "metadata": {},
     "output_type": "display_data"
    },
    {
     "name": "stdout",
     "output_type": "stream",
     "text": [
      "+-------------------+------+-----+------------------+------------------+---------+--------------------+--------------------+-----------+\n",
      "|         start_time|userId|level|           song_id|         artist_id|sessionId|            location|           userAgent|songplay_id|\n",
      "+-------------------+------+-----+------------------+------------------+---------+--------------------+--------------------+-----------+\n",
      "|2018-11-21 21:56:47|    15| paid|SOZCTXZ12AB0182364|AR5KOSW1187FB35FF4|      818|Chicago-Napervill...|\"Mozilla/5.0 (X11...|          0|\n",
      "|2018-11-14 05:06:03|    10| free|SOGDBUF12A8C140FAA|AR558FS1187FB45658|      484|Washington-Arling...|\"Mozilla/5.0 (Mac...|          1|\n",
      "|2018-11-19 09:14:20|    24| paid|SOGDBUF12A8C140FAA|AR558FS1187FB45658|      672|Lake Havasu City-...|\"Mozilla/5.0 (Win...|          2|\n",
      "|2018-11-27 22:35:59|    80| paid|SOGDBUF12A8C140FAA|AR558FS1187FB45658|      992|Portland-South Po...|\"Mozilla/5.0 (Mac...|          3|\n",
      "+-------------------+------+-----+------------------+------------------+---------+--------------------+--------------------+-----------+"
     ]
    }
   ],
   "source": [
    "songplay = songplay.withColumn(\"songplay_id\", monotonically_increasing_id())\n",
    "songplay.show(10)"
   ]
  },
  {
   "cell_type": "code",
   "execution_count": null,
   "metadata": {},
   "outputs": [
    {
     "data": {
      "text/plain": [
       "4"
      ]
     },
     "execution_count": 48,
     "metadata": {},
     "output_type": "execute_result"
    }
   ],
   "source": [
    "songplay.count()"
   ]
  },
  {
   "cell_type": "code",
   "execution_count": null,
   "metadata": {},
   "outputs": [],
   "source": [
    "# write songplays table to parquet files partitioned by year and month\n",
    "songplay.write.parquet(\"home/workspace/song_plays.parquet\", \"overwrite\")"
   ]
  },
  {
   "cell_type": "code",
   "execution_count": null,
   "metadata": {},
   "outputs": [],
   "source": [
    "###################################test"
   ]
  },
  {
   "cell_type": "code",
   "execution_count": null,
   "metadata": {},
   "outputs": [],
   "source": [
    "songplays_table1 = df1.select(\n",
    "    col('ts').alias('ts'),\n",
    "    col('userId').alias('user_id'),\n",
    "    col('level').alias('level'),\n",
    "    col('song_id').alias('song_id'),\n",
    "    col('artist_id').alias('artist_id'),\n",
    "    col('sessionId').alias('session_id'),\n",
    "    col('location').alias('location'),\n",
    "    col('userAgent').alias('user_agent'),\n",
    "    col('year'), #.alias('year'),\n",
    "    month('datetime').alias('month')\n",
    ")"
   ]
  },
  {
   "cell_type": "code",
   "execution_count": null,
   "metadata": {},
   "outputs": [],
   "source": [
    "#############################test"
   ]
  },
  {
   "cell_type": "code",
   "execution_count": null,
   "metadata": {},
   "outputs": [],
   "source": [
    "# extract columns from joined song and log datasets to create songplays table \n",
    "log_df.createOrReplaceTempView(\"log_df_table\")\n",
    "song_df.createOrReplaceTempView(\"song_df_table\")\n",
    "\n",
    "songplays_table = spark.sql(\n",
    "    \"\"\"SELECT DISTINCT log_df_table.start_time, log_df_table.userId, log_df_table.level, log_df_table.sessionId, log_df_table.location,log_df_table.userAgent, song_df_table.song_id, song_df_table.artist_id\n",
    "    FROM log_df_table \n",
    "    INNER JOIN song_df_table \n",
    "    ON song_df_table.artist_name = log_df_table.artist \n",
    "    INNER JOIN time_table\n",
    "    ON time_table.start_time = log_df_table.start_time\n",
    "    GROUP BY time_table.year, time_table.month\n",
    "    \"\"\")\n",
    "songplays_table = songplays_table.withColumn(\"songplay_id\", monotonically_increasing_id()"
   ]
  },
  {
   "cell_type": "code",
   "execution_count": null,
   "metadata": {},
   "outputs": [],
   "source": []
  },
  {
   "cell_type": "code",
   "execution_count": null,
   "metadata": {},
   "outputs": [],
   "source": []
  }
 ],
 "metadata": {
  "kernelspec": {
   "display_name": "PySpark",
   "language": "python",
   "name": "pysparkkernel"
  },
  "language_info": {
   "codemirror_mode": {
    "name": "python",
    "version": 3
   },
   "file_extension": ".py",
   "mimetype": "text/x-python",
   "name": "pyspark",
   "pygments_lexer": "python3"
  }
 },
 "nbformat": 4,
 "nbformat_minor": 4
}
