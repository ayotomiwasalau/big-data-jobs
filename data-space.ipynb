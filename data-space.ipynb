{
 "cells": [
  {
   "cell_type": "code",
   "execution_count": 1,
   "id": "df2eb78d-fdf8-48d4-b4ad-bbb695e1c912",
   "metadata": {
    "execution": {
     "iopub.execute_input": "2025-04-03T11:49:35.759160Z",
     "iopub.status.busy": "2025-04-03T11:49:35.758861Z",
     "iopub.status.idle": "2025-04-03T11:50:14.422783Z",
     "shell.execute_reply": "2025-04-03T11:50:14.422152Z",
     "shell.execute_reply.started": "2025-04-03T11:49:35.759132Z"
    }
   },
   "outputs": [
    {
     "data": {
      "application/vnd.jupyter.widget-view+json": {
       "model_id": "eb114e0624ca49cc9c75ab772a8ec93e",
       "version_major": 2,
       "version_minor": 0
      },
      "text/plain": [
       "VBox()"
      ]
     },
     "metadata": {},
     "output_type": "display_data"
    },
    {
     "name": "stdout",
     "output_type": "stream",
     "text": [
      "Starting Spark application\n"
     ]
    },
    {
     "data": {
      "text/html": [
       "<table>\n<tbody><tr><th>ID</th><th>YARN Application ID</th><th>Kind</th><th>State</th><th>Spark UI</th><th>Driver log</th><th>User</th><th>Current session?</th></tr><tr><td>5</td><td>application_1743675731502_0006</td><td>pyspark</td><td>idle</td><td><a target=\"_blank\" href=\"http://ip-172-31-26-170.ec2.internal:20888/proxy/application_1743675731502_0006/\" class=\"emr-proxy-link j-8ATKNHF8QAWI application_1743675731502_0006\" emr-resource=\"j-8ATKNHF8QAWI\n\" application-id=\"application_1743675731502_0006\">Link</a></td><td><a target=\"_blank\" href=\"http://ip-172-31-16-135.ec2.internal:8042/node/containerlogs/container_1743675731502_0006_01_000001/livy\">Link</a></td><td>None</td><td>✔</td></tr></tbody></table>"
      ],
      "text/plain": [
       "<IPython.core.display.HTML object>"
      ]
     },
     "metadata": {},
     "output_type": "display_data"
    },
    {
     "data": {
      "application/vnd.jupyter.widget-view+json": {
       "model_id": "",
       "version_major": 2,
       "version_minor": 0
      },
      "text/plain": [
       "FloatProgress(value=0.0, bar_style='info', description='Progress:', layout=Layout(height='25px', width='50%'),…"
      ]
     },
     "metadata": {},
     "output_type": "display_data"
    },
    {
     "name": "stdout",
     "output_type": "stream",
     "text": [
      "SparkSession available as 'spark'.\n"
     ]
    },
    {
     "data": {
      "application/vnd.jupyter.widget-view+json": {
       "model_id": "",
       "version_major": 2,
       "version_minor": 0
      },
      "text/plain": [
       "FloatProgress(value=0.0, bar_style='info', description='Progress:', layout=Layout(height='25px', width='50%'),…"
      ]
     },
     "metadata": {},
     "output_type": "display_data"
    }
   ],
   "source": [
    "import configparser\n",
    "from datetime import datetime\n",
    "import os\n",
    "from pyspark.sql import SparkSession\n",
    "from pyspark.sql.functions import udf, col\n",
    "from pyspark.sql.functions import year, month, dayofmonth, hour, weekofyear, date_format\n",
    "from pyspark.sql.types import TimestampType\n",
    "import zipfile\n",
    "\n",
    "from pyspark.sql.functions import monotonically_increasing_id"
   ]
  },
  {
   "cell_type": "code",
   "execution_count": 2,
   "id": "1681da80-1055-4dca-bb06-2e009245424c",
   "metadata": {
    "execution": {
     "iopub.execute_input": "2025-04-03T11:50:14.424382Z",
     "iopub.status.busy": "2025-04-03T11:50:14.424141Z",
     "iopub.status.idle": "2025-04-03T11:50:14.478362Z",
     "shell.execute_reply": "2025-04-03T11:50:14.477827Z",
     "shell.execute_reply.started": "2025-04-03T11:50:14.424347Z"
    }
   },
   "outputs": [
    {
     "data": {
      "application/vnd.jupyter.widget-view+json": {
       "model_id": "377570303f3a4a08883c35e1786b2a1d",
       "version_major": 2,
       "version_minor": 0
      },
      "text/plain": [
       "VBox()"
      ]
     },
     "metadata": {},
     "output_type": "display_data"
    },
    {
     "data": {
      "application/vnd.jupyter.widget-view+json": {
       "model_id": "",
       "version_major": 2,
       "version_minor": 0
      },
      "text/plain": [
       "FloatProgress(value=0.0, bar_style='info', description='Progress:', layout=Layout(height='25px', width='50%'),…"
      ]
     },
     "metadata": {},
     "output_type": "display_data"
    }
   ],
   "source": [
    "\n",
    "spark = SparkSession \\\n",
    "    .builder \\\n",
    "    .config(\"spark.jars.packages\", \"org.apache.hadoop:hadoop-aws:2.7.0\") \\\n",
    "    .getOrCreate()\n"
   ]
  },
  {
   "cell_type": "code",
   "execution_count": 3,
   "id": "d6fbea65-4d75-4022-b054-a1d84896fa60",
   "metadata": {
    "execution": {
     "iopub.execute_input": "2025-04-03T12:01:22.300854Z",
     "iopub.status.busy": "2025-04-03T12:01:22.300536Z",
     "iopub.status.idle": "2025-04-03T12:01:22.364969Z",
     "shell.execute_reply": "2025-04-03T12:01:22.364142Z",
     "shell.execute_reply.started": "2025-04-03T12:01:22.300814Z"
    }
   },
   "outputs": [
    {
     "data": {
      "application/vnd.jupyter.widget-view+json": {
       "model_id": "7ffd0aa02ed0490d843c908761ed1cc1",
       "version_major": 2,
       "version_minor": 0
      },
      "text/plain": [
       "VBox()"
      ]
     },
     "metadata": {},
     "output_type": "display_data"
    },
    {
     "data": {
      "application/vnd.jupyter.widget-view+json": {
       "model_id": "",
       "version_major": 2,
       "version_minor": 0
      },
      "text/plain": [
       "FloatProgress(value=0.0, bar_style='info', description='Progress:', layout=Layout(height='25px', width='50%'),…"
      ]
     },
     "metadata": {},
     "output_type": "display_data"
    }
   ],
   "source": [
    "new_song_data_path = \"s3://data-emr-bucket-store/subset-data/song-data/datafile/*/*/*/*.json\""
   ]
  },
  {
   "cell_type": "code",
   "execution_count": 4,
   "id": "c53c997a-8848-4f97-b4ac-f3ff7cdaa1bc",
   "metadata": {
    "execution": {
     "iopub.execute_input": "2025-04-03T12:01:22.472695Z",
     "iopub.status.busy": "2025-04-03T12:01:22.472108Z",
     "iopub.status.idle": "2025-04-03T12:01:39.814695Z",
     "shell.execute_reply": "2025-04-03T12:01:39.813928Z",
     "shell.execute_reply.started": "2025-04-03T12:01:22.472650Z"
    }
   },
   "outputs": [
    {
     "data": {
      "application/vnd.jupyter.widget-view+json": {
       "model_id": "c5dd08c1acfc40e59c8fafc702d4d3de",
       "version_major": 2,
       "version_minor": 0
      },
      "text/plain": [
       "VBox()"
      ]
     },
     "metadata": {},
     "output_type": "display_data"
    },
    {
     "data": {
      "application/vnd.jupyter.widget-view+json": {
       "model_id": "",
       "version_major": 2,
       "version_minor": 0
      },
      "text/plain": [
       "FloatProgress(value=0.0, bar_style='info', description='Progress:', layout=Layout(height='25px', width='50%'),…"
      ]
     },
     "metadata": {},
     "output_type": "display_data"
    }
   ],
   "source": [
    "song_data = spark.read.json(new_song_data_path)"
   ]
  },
  {
   "cell_type": "code",
   "execution_count": 5,
   "id": "5d3d3494-3310-4e32-8855-380dedc6696a",
   "metadata": {
    "execution": {
     "iopub.execute_input": "2025-04-03T12:01:39.816298Z",
     "iopub.status.busy": "2025-04-03T12:01:39.816049Z",
     "iopub.status.idle": "2025-04-03T12:01:41.077541Z",
     "shell.execute_reply": "2025-04-03T12:01:41.076805Z",
     "shell.execute_reply.started": "2025-04-03T12:01:39.816261Z"
    }
   },
   "outputs": [
    {
     "data": {
      "application/vnd.jupyter.widget-view+json": {
       "model_id": "32bf74dd0e374ca78ca8b1e150da5ba0",
       "version_major": 2,
       "version_minor": 0
      },
      "text/plain": [
       "VBox()"
      ]
     },
     "metadata": {},
     "output_type": "display_data"
    },
    {
     "data": {
      "application/vnd.jupyter.widget-view+json": {
       "model_id": "",
       "version_major": 2,
       "version_minor": 0
      },
      "text/plain": [
       "FloatProgress(value=0.0, bar_style='info', description='Progress:', layout=Layout(height='25px', width='50%'),…"
      ]
     },
     "metadata": {},
     "output_type": "display_data"
    },
    {
     "name": "stdout",
     "output_type": "stream",
     "text": [
      "+------------------+---------------+-----------------+----------------+--------------------+---------+---------+------------------+--------------------+----+\n",
      "|         artist_id|artist_latitude|  artist_location|artist_longitude|         artist_name| duration|num_songs|           song_id|               title|year|\n",
      "+------------------+---------------+-----------------+----------------+--------------------+---------+---------+------------------+--------------------+----+\n",
      "|ARDR4AC1187FB371A1|           NULL|                 |            NULL|Montserrat Caball...|511.16363|        1|SOBAYLL12A8C138AF9|Sono andati? Fing...|   0|\n",
      "|AREBBGV1187FB523D2|           NULL|      Houston, TX|            NULL|Mike Jones (Featu...|173.66159|        1|SOOLYAZ12A6701F4A6|Laws Patrolling (...|   0|\n",
      "|ARMAC4T1187FB3FA4C|       40.82624|Morris Plains, NJ|       -74.47995|The Dillinger Esc...|207.77751|        1|SOBBUGU12A8C13E95D|Setting Fire to S...|2004|\n",
      "|ARPBNLO1187FB3D52F|       40.71455|     New York, NY|       -74.00712|            Tiny Tim| 43.36281|        1|SOAOIBZ12AB01815BE|I Hold Your Hand ...|2000|\n",
      "|ARDNS031187B9924F0|       32.67828|          Georgia|       -83.22295|          Tim Wilson|186.48771|        1|SONYPOM12A8C13B2D7|I Think My Wife I...|2005|\n",
      "+------------------+---------------+-----------------+----------------+--------------------+---------+---------+------------------+--------------------+----+\n",
      "only showing top 5 rows"
     ]
    }
   ],
   "source": [
    "song_data.show(5)"
   ]
  },
  {
   "cell_type": "code",
   "execution_count": 6,
   "id": "821bb245-3404-4377-ba30-f219751c7681",
   "metadata": {
    "execution": {
     "iopub.execute_input": "2025-04-03T12:01:41.079782Z",
     "iopub.status.busy": "2025-04-03T12:01:41.079519Z",
     "iopub.status.idle": "2025-04-03T12:01:41.329081Z",
     "shell.execute_reply": "2025-04-03T12:01:41.328341Z",
     "shell.execute_reply.started": "2025-04-03T12:01:41.079745Z"
    }
   },
   "outputs": [
    {
     "data": {
      "application/vnd.jupyter.widget-view+json": {
       "model_id": "57dc304b09e241ff9d35c919b51f140a",
       "version_major": 2,
       "version_minor": 0
      },
      "text/plain": [
       "VBox()"
      ]
     },
     "metadata": {},
     "output_type": "display_data"
    },
    {
     "data": {
      "application/vnd.jupyter.widget-view+json": {
       "model_id": "",
       "version_major": 2,
       "version_minor": 0
      },
      "text/plain": [
       "FloatProgress(value=0.0, bar_style='info', description='Progress:', layout=Layout(height='25px', width='50%'),…"
      ]
     },
     "metadata": {},
     "output_type": "display_data"
    }
   ],
   "source": [
    "songs_table = song_data[\"song_id\", \"title\", \"artist_id\", \"year\", \"duration\", \"artist_name\"]\n",
    "songs_table = songs_table.drop_duplicates(subset=['song_id'])"
   ]
  },
  {
   "cell_type": "code",
   "execution_count": 7,
   "id": "3cc3d274-121b-449c-aac3-e66099a9f9f8",
   "metadata": {
    "execution": {
     "iopub.execute_input": "2025-04-03T12:01:41.330878Z",
     "iopub.status.busy": "2025-04-03T12:01:41.330634Z",
     "iopub.status.idle": "2025-04-03T12:01:46.615885Z",
     "shell.execute_reply": "2025-04-03T12:01:46.615210Z",
     "shell.execute_reply.started": "2025-04-03T12:01:41.330844Z"
    }
   },
   "outputs": [
    {
     "data": {
      "application/vnd.jupyter.widget-view+json": {
       "model_id": "28f6d34f67924103978e056e6ef73c32",
       "version_major": 2,
       "version_minor": 0
      },
      "text/plain": [
       "VBox()"
      ]
     },
     "metadata": {},
     "output_type": "display_data"
    },
    {
     "data": {
      "application/vnd.jupyter.widget-view+json": {
       "model_id": "",
       "version_major": 2,
       "version_minor": 0
      },
      "text/plain": [
       "FloatProgress(value=0.0, bar_style='info', description='Progress:', layout=Layout(height='25px', width='50%'),…"
      ]
     },
     "metadata": {},
     "output_type": "display_data"
    },
    {
     "name": "stdout",
     "output_type": "stream",
     "text": [
      "+------------------+--------------------+------------------+----+---------+--------------------+\n",
      "|           song_id|               title|         artist_id|year| duration|         artist_name|\n",
      "+------------------+--------------------+------------------+----+---------+--------------------+\n",
      "|SOAOIBZ12AB01815BE|I Hold Your Hand ...|ARPBNLO1187FB3D52F|2000| 43.36281|            Tiny Tim|\n",
      "|SOBAYLL12A8C138AF9|Sono andati? Fing...|ARDR4AC1187FB371A1|   0|511.16363|Montserrat Caball...|\n",
      "|SOBBUGU12A8C13E95D|Setting Fire to S...|ARMAC4T1187FB3FA4C|2004|207.77751|The Dillinger Esc...|\n",
      "|SOBBXLX12A58A79DDA|Erica (2005 Digit...|AREDBBQ1187B98AFF5|   0|138.63138|       Eddie Calvert|\n",
      "+------------------+--------------------+------------------+----+---------+--------------------+\n",
      "only showing top 4 rows"
     ]
    }
   ],
   "source": [
    "songs_table.show(4)"
   ]
  },
  {
   "cell_type": "code",
   "execution_count": 8,
   "id": "c4ad8a0f-e36b-4157-83b1-5a09f31ca398",
   "metadata": {
    "execution": {
     "iopub.execute_input": "2025-04-03T12:01:46.617039Z",
     "iopub.status.busy": "2025-04-03T12:01:46.616864Z",
     "iopub.status.idle": "2025-04-03T12:01:46.659054Z",
     "shell.execute_reply": "2025-04-03T12:01:46.658378Z",
     "shell.execute_reply.started": "2025-04-03T12:01:46.617015Z"
    }
   },
   "outputs": [
    {
     "data": {
      "application/vnd.jupyter.widget-view+json": {
       "model_id": "750146b30e8940f3b58da23c3fd4f44d",
       "version_major": 2,
       "version_minor": 0
      },
      "text/plain": [
       "VBox()"
      ]
     },
     "metadata": {},
     "output_type": "display_data"
    },
    {
     "data": {
      "application/vnd.jupyter.widget-view+json": {
       "model_id": "",
       "version_major": 2,
       "version_minor": 0
      },
      "text/plain": [
       "FloatProgress(value=0.0, bar_style='info', description='Progress:', layout=Layout(height='25px', width='50%'),…"
      ]
     },
     "metadata": {},
     "output_type": "display_data"
    }
   ],
   "source": [
    "outputfolderpath = \"s3://data-emr-bucket-store/subset-data/processed-data\""
   ]
  },
  {
   "cell_type": "code",
   "execution_count": 9,
   "id": "d4f367fe-6f6e-4e10-a4ec-caeb00f91946",
   "metadata": {
    "execution": {
     "iopub.execute_input": "2025-04-03T12:01:46.660669Z",
     "iopub.status.busy": "2025-04-03T12:01:46.660313Z",
     "iopub.status.idle": "2025-04-03T12:02:01.967591Z",
     "shell.execute_reply": "2025-04-03T12:02:01.966810Z",
     "shell.execute_reply.started": "2025-04-03T12:01:46.660627Z"
    }
   },
   "outputs": [
    {
     "data": {
      "application/vnd.jupyter.widget-view+json": {
       "model_id": "5a5230b442274c4d9018030dfe4c3af1",
       "version_major": 2,
       "version_minor": 0
      },
      "text/plain": [
       "VBox()"
      ]
     },
     "metadata": {},
     "output_type": "display_data"
    },
    {
     "data": {
      "application/vnd.jupyter.widget-view+json": {
       "model_id": "",
       "version_major": 2,
       "version_minor": 0
      },
      "text/plain": [
       "FloatProgress(value=0.0, bar_style='info', description='Progress:', layout=Layout(height='25px', width='50%'),…"
      ]
     },
     "metadata": {},
     "output_type": "display_data"
    }
   ],
   "source": [
    "songs_table.write.partitionBy(\"year\", \"artist_id\").parquet(f\"{outputfolderpath}/songs_table.parquet\", \"overwrite\")"
   ]
  },
  {
   "cell_type": "code",
   "execution_count": 10,
   "id": "66de09e3-fee2-4ff1-89a1-e2e5a4d43eaf",
   "metadata": {
    "execution": {
     "iopub.execute_input": "2025-04-03T12:02:01.969018Z",
     "iopub.status.busy": "2025-04-03T12:02:01.968776Z",
     "iopub.status.idle": "2025-04-03T12:02:05.239777Z",
     "shell.execute_reply": "2025-04-03T12:02:05.239051Z",
     "shell.execute_reply.started": "2025-04-03T12:02:01.968984Z"
    }
   },
   "outputs": [
    {
     "data": {
      "application/vnd.jupyter.widget-view+json": {
       "model_id": "e8f67e5bf05040f19f57c3bb51d3840f",
       "version_major": 2,
       "version_minor": 0
      },
      "text/plain": [
       "VBox()"
      ]
     },
     "metadata": {},
     "output_type": "display_data"
    },
    {
     "data": {
      "application/vnd.jupyter.widget-view+json": {
       "model_id": "",
       "version_major": 2,
       "version_minor": 0
      },
      "text/plain": [
       "FloatProgress(value=0.0, bar_style='info', description='Progress:', layout=Layout(height='25px', width='50%'),…"
      ]
     },
     "metadata": {},
     "output_type": "display_data"
    }
   ],
   "source": [
    "# extract columns to create artists table\n",
    "artists_table = song_data[\"artist_id\", \"artist_name\", \"artist_location\", \"artist_latitude\", \"artist_longitude\"]\n",
    "\n",
    "# write artists table to parquet files\n",
    "artists_table.write.parquet(f\"{outputfolderpath}/artists_table.parquet\", \"overwrite\")"
   ]
  },
  {
   "cell_type": "code",
   "execution_count": 11,
   "id": "5997a989-d2ef-418a-a14f-b2931ff811c8",
   "metadata": {
    "execution": {
     "iopub.execute_input": "2025-04-03T12:02:05.241966Z",
     "iopub.status.busy": "2025-04-03T12:02:05.241771Z",
     "iopub.status.idle": "2025-04-03T12:02:05.993313Z",
     "shell.execute_reply": "2025-04-03T12:02:05.992599Z",
     "shell.execute_reply.started": "2025-04-03T12:02:05.241942Z"
    }
   },
   "outputs": [
    {
     "data": {
      "application/vnd.jupyter.widget-view+json": {
       "model_id": "06447e087967443d85653acb5c9a15c1",
       "version_major": 2,
       "version_minor": 0
      },
      "text/plain": [
       "VBox()"
      ]
     },
     "metadata": {},
     "output_type": "display_data"
    },
    {
     "data": {
      "application/vnd.jupyter.widget-view+json": {
       "model_id": "",
       "version_major": 2,
       "version_minor": 0
      },
      "text/plain": [
       "FloatProgress(value=0.0, bar_style='info', description='Progress:', layout=Layout(height='25px', width='50%'),…"
      ]
     },
     "metadata": {},
     "output_type": "display_data"
    },
    {
     "name": "stdout",
     "output_type": "stream",
     "text": [
      "+------------------+--------------------+-----------------+---------------+----------------+\n",
      "|         artist_id|         artist_name|  artist_location|artist_latitude|artist_longitude|\n",
      "+------------------+--------------------+-----------------+---------------+----------------+\n",
      "|ARDR4AC1187FB371A1|Montserrat Caball...|                 |           NULL|            NULL|\n",
      "|AREBBGV1187FB523D2|Mike Jones (Featu...|      Houston, TX|           NULL|            NULL|\n",
      "|ARMAC4T1187FB3FA4C|The Dillinger Esc...|Morris Plains, NJ|       40.82624|       -74.47995|\n",
      "|ARPBNLO1187FB3D52F|            Tiny Tim|     New York, NY|       40.71455|       -74.00712|\n",
      "+------------------+--------------------+-----------------+---------------+----------------+\n",
      "only showing top 4 rows"
     ]
    }
   ],
   "source": [
    "artists_table.show(4)"
   ]
  },
  {
   "cell_type": "code",
   "execution_count": 12,
   "id": "619e8893-51e5-4e8b-b2f8-2a52a7579024",
   "metadata": {
    "execution": {
     "iopub.execute_input": "2025-04-03T12:02:05.995639Z",
     "iopub.status.busy": "2025-04-03T12:02:05.995378Z",
     "iopub.status.idle": "2025-04-03T12:02:09.269414Z",
     "shell.execute_reply": "2025-04-03T12:02:09.268642Z",
     "shell.execute_reply.started": "2025-04-03T12:02:05.995603Z"
    }
   },
   "outputs": [
    {
     "data": {
      "application/vnd.jupyter.widget-view+json": {
       "model_id": "ff9daeafede44aca930c82383221620d",
       "version_major": 2,
       "version_minor": 0
      },
      "text/plain": [
       "VBox()"
      ]
     },
     "metadata": {},
     "output_type": "display_data"
    },
    {
     "data": {
      "application/vnd.jupyter.widget-view+json": {
       "model_id": "",
       "version_major": 2,
       "version_minor": 0
      },
      "text/plain": [
       "FloatProgress(value=0.0, bar_style='info', description='Progress:', layout=Layout(height='25px', width='50%'),…"
      ]
     },
     "metadata": {},
     "output_type": "display_data"
    }
   ],
   "source": [
    "# get filepath to song data file\n",
    "log_data_path = \"s3://data-emr-bucket-store/subset-data/log-data/*.json\"\n",
    "dfLog = spark.read.json(log_data_path)"
   ]
  },
  {
   "cell_type": "code",
   "execution_count": 13,
   "id": "b1a8fc57-d5c4-462b-9ebb-3ea62987b218",
   "metadata": {
    "execution": {
     "iopub.execute_input": "2025-04-03T12:02:09.270804Z",
     "iopub.status.busy": "2025-04-03T12:02:09.270517Z",
     "iopub.status.idle": "2025-04-03T12:02:09.312020Z",
     "shell.execute_reply": "2025-04-03T12:02:09.311435Z",
     "shell.execute_reply.started": "2025-04-03T12:02:09.270768Z"
    }
   },
   "outputs": [
    {
     "data": {
      "application/vnd.jupyter.widget-view+json": {
       "model_id": "7b421f199f134767a99198c2b0a8fd8f",
       "version_major": 2,
       "version_minor": 0
      },
      "text/plain": [
       "VBox()"
      ]
     },
     "metadata": {},
     "output_type": "display_data"
    },
    {
     "data": {
      "application/vnd.jupyter.widget-view+json": {
       "model_id": "",
       "version_major": 2,
       "version_minor": 0
      },
      "text/plain": [
       "FloatProgress(value=0.0, bar_style='info', description='Progress:', layout=Layout(height='25px', width='50%'),…"
      ]
     },
     "metadata": {},
     "output_type": "display_data"
    },
    {
     "name": "stdout",
     "output_type": "stream",
     "text": [
      "root\n",
      " |-- artist: string (nullable = true)\n",
      " |-- auth: string (nullable = true)\n",
      " |-- firstName: string (nullable = true)\n",
      " |-- gender: string (nullable = true)\n",
      " |-- itemInSession: long (nullable = true)\n",
      " |-- lastName: string (nullable = true)\n",
      " |-- length: double (nullable = true)\n",
      " |-- level: string (nullable = true)\n",
      " |-- location: string (nullable = true)\n",
      " |-- method: string (nullable = true)\n",
      " |-- page: string (nullable = true)\n",
      " |-- registration: double (nullable = true)\n",
      " |-- sessionId: long (nullable = true)\n",
      " |-- song: string (nullable = true)\n",
      " |-- status: long (nullable = true)\n",
      " |-- ts: long (nullable = true)\n",
      " |-- userAgent: string (nullable = true)\n",
      " |-- userId: string (nullable = true)"
     ]
    }
   ],
   "source": [
    "dfLog.printSchema()"
   ]
  },
  {
   "cell_type": "code",
   "execution_count": 14,
   "id": "87629306-413b-4951-a2bc-2952c1936c16",
   "metadata": {
    "execution": {
     "iopub.execute_input": "2025-04-03T12:02:09.313057Z",
     "iopub.status.busy": "2025-04-03T12:02:09.312895Z",
     "iopub.status.idle": "2025-04-03T12:02:10.067144Z",
     "shell.execute_reply": "2025-04-03T12:02:10.066535Z",
     "shell.execute_reply.started": "2025-04-03T12:02:09.313035Z"
    }
   },
   "outputs": [
    {
     "data": {
      "application/vnd.jupyter.widget-view+json": {
       "model_id": "9b4fbabe8adb484dac0720b037ea0807",
       "version_major": 2,
       "version_minor": 0
      },
      "text/plain": [
       "VBox()"
      ]
     },
     "metadata": {},
     "output_type": "display_data"
    },
    {
     "data": {
      "application/vnd.jupyter.widget-view+json": {
       "model_id": "",
       "version_major": 2,
       "version_minor": 0
      },
      "text/plain": [
       "FloatProgress(value=0.0, bar_style='info', description='Progress:', layout=Layout(height='25px', width='50%'),…"
      ]
     },
     "metadata": {},
     "output_type": "display_data"
    },
    {
     "name": "stdout",
     "output_type": "stream",
     "text": [
      "+-----------+---------+---------+------+-------------+--------+---------+-----+--------------------+------+--------+-----------------+---------+---------------+------+-------------+--------------------+------+\n",
      "|     artist|     auth|firstName|gender|itemInSession|lastName|   length|level|            location|method|    page|     registration|sessionId|           song|status|           ts|           userAgent|userId|\n",
      "+-----------+---------+---------+------+-------------+--------+---------+-----+--------------------+------+--------+-----------------+---------+---------------+------+-------------+--------------------+------+\n",
      "|   Harmonia|Logged In|     Ryan|     M|            0|   Smith|655.77751| free|San Jose-Sunnyval...|   PUT|NextSong|1.541016707796E12|      583|  Sehr kosmisch|   200|1542241826796|\"Mozilla/5.0 (X11...|    26|\n",
      "|The Prodigy|Logged In|     Ryan|     M|            1|   Smith|260.07465| free|San Jose-Sunnyval...|   PUT|NextSong|1.541016707796E12|      583|The Big Gundown|   200|1542242481796|\"Mozilla/5.0 (X11...|    26|\n",
      "|      Train|Logged In|     Ryan|     M|            2|   Smith|205.45261| free|San Jose-Sunnyval...|   PUT|NextSong|1.541016707796E12|      583|       Marry Me|   200|1542242741796|\"Mozilla/5.0 (X11...|    26|\n",
      "|       NULL|Logged In|    Wyatt|     M|            0|   Scott|     NULL| free|Eureka-Arcata-For...|   GET|    Home|1.540872073796E12|      563|           NULL|   200|1542247071796|Mozilla/5.0 (Wind...|     9|\n",
      "|       NULL|Logged In|   Austin|     M|            0| Rosales|     NULL| free|New York-Newark-J...|   GET|    Home|1.541059521796E12|      521|           NULL|   200|1542252577796|Mozilla/5.0 (Wind...|    12|\n",
      "+-----------+---------+---------+------+-------------+--------+---------+-----+--------------------+------+--------+-----------------+---------+---------------+------+-------------+--------------------+------+\n",
      "only showing top 5 rows"
     ]
    }
   ],
   "source": [
    "dfLog.show(5)"
   ]
  },
  {
   "cell_type": "code",
   "execution_count": 15,
   "id": "079246da-47ff-4cca-a922-aebaf733f454",
   "metadata": {
    "execution": {
     "iopub.execute_input": "2025-04-03T12:02:10.068279Z",
     "iopub.status.busy": "2025-04-03T12:02:10.068103Z",
     "iopub.status.idle": "2025-04-03T12:02:10.315538Z",
     "shell.execute_reply": "2025-04-03T12:02:10.314802Z",
     "shell.execute_reply.started": "2025-04-03T12:02:10.068256Z"
    }
   },
   "outputs": [
    {
     "data": {
      "application/vnd.jupyter.widget-view+json": {
       "model_id": "ec2457adb605442c9a0910e3845610b2",
       "version_major": 2,
       "version_minor": 0
      },
      "text/plain": [
       "VBox()"
      ]
     },
     "metadata": {},
     "output_type": "display_data"
    },
    {
     "data": {
      "application/vnd.jupyter.widget-view+json": {
       "model_id": "",
       "version_major": 2,
       "version_minor": 0
      },
      "text/plain": [
       "FloatProgress(value=0.0, bar_style='info', description='Progress:', layout=Layout(height='25px', width='50%'),…"
      ]
     },
     "metadata": {},
     "output_type": "display_data"
    }
   ],
   "source": [
    "# filter by actions for song plays\n",
    "df_plays = dfLog.where(dfLog.page == \"NextSong\")"
   ]
  },
  {
   "cell_type": "code",
   "execution_count": 16,
   "id": "cb215947-1811-4eef-9b74-97db5b18b652",
   "metadata": {
    "execution": {
     "iopub.execute_input": "2025-04-03T12:02:10.316643Z",
     "iopub.status.busy": "2025-04-03T12:02:10.316470Z",
     "iopub.status.idle": "2025-04-03T12:02:12.587769Z",
     "shell.execute_reply": "2025-04-03T12:02:12.587133Z",
     "shell.execute_reply.started": "2025-04-03T12:02:10.316621Z"
    }
   },
   "outputs": [
    {
     "data": {
      "application/vnd.jupyter.widget-view+json": {
       "model_id": "4f1c46375e2348e78c97a5de2ef0691d",
       "version_major": 2,
       "version_minor": 0
      },
      "text/plain": [
       "VBox()"
      ]
     },
     "metadata": {},
     "output_type": "display_data"
    },
    {
     "data": {
      "application/vnd.jupyter.widget-view+json": {
       "model_id": "",
       "version_major": 2,
       "version_minor": 0
      },
      "text/plain": [
       "FloatProgress(value=0.0, bar_style='info', description='Progress:', layout=Layout(height='25px', width='50%'),…"
      ]
     },
     "metadata": {},
     "output_type": "display_data"
    },
    {
     "name": "stdout",
     "output_type": "stream",
     "text": [
      "+-----------+---------+---------+------+-------------+--------+---------+-----+--------------------+------+--------+-----------------+---------+--------------------+------+-------------+--------------------+------+\n",
      "|     artist|     auth|firstName|gender|itemInSession|lastName|   length|level|            location|method|    page|     registration|sessionId|                song|status|           ts|           userAgent|userId|\n",
      "+-----------+---------+---------+------+-------------+--------+---------+-----+--------------------+------+--------+-----------------+---------+--------------------+------+-------------+--------------------+------+\n",
      "|   Harmonia|Logged In|     Ryan|     M|            0|   Smith|655.77751| free|San Jose-Sunnyval...|   PUT|NextSong|1.541016707796E12|      583|       Sehr kosmisch|   200|1542241826796|\"Mozilla/5.0 (X11...|    26|\n",
      "|The Prodigy|Logged In|     Ryan|     M|            1|   Smith|260.07465| free|San Jose-Sunnyval...|   PUT|NextSong|1.541016707796E12|      583|     The Big Gundown|   200|1542242481796|\"Mozilla/5.0 (X11...|    26|\n",
      "|      Train|Logged In|     Ryan|     M|            2|   Smith|205.45261| free|San Jose-Sunnyval...|   PUT|NextSong|1.541016707796E12|      583|            Marry Me|   200|1542242741796|\"Mozilla/5.0 (X11...|    26|\n",
      "|Sony Wonder|Logged In|   Samuel|     M|            0|Gonzalez|218.06975| free|Houston-The Woodl...|   PUT|NextSong|1.540492941796E12|      597|           Blackbird|   200|1542253449796|\"Mozilla/5.0 (Mac...|    61|\n",
      "|  Van Halen|Logged In|    Tegan|     F|            2|  Levine|289.38404| paid|Portland-South Po...|   PUT|NextSong|1.540794356796E12|      602|Best Of Both Worl...|   200|1542260935796|\"Mozilla/5.0 (Mac...|    80|\n",
      "+-----------+---------+---------+------+-------------+--------+---------+-----+--------------------+------+--------+-----------------+---------+--------------------+------+-------------+--------------------+------+\n",
      "only showing top 5 rows"
     ]
    }
   ],
   "source": [
    "df_plays.count()\n",
    "df_plays.show(5)"
   ]
  },
  {
   "cell_type": "code",
   "execution_count": 17,
   "id": "6c418b8f-05ea-482f-bba0-a994cc70f5ae",
   "metadata": {
    "execution": {
     "iopub.execute_input": "2025-04-03T12:02:12.588947Z",
     "iopub.status.busy": "2025-04-03T12:02:12.588775Z",
     "iopub.status.idle": "2025-04-03T12:02:15.914175Z",
     "shell.execute_reply": "2025-04-03T12:02:15.913314Z",
     "shell.execute_reply.started": "2025-04-03T12:02:12.588924Z"
    }
   },
   "outputs": [
    {
     "data": {
      "application/vnd.jupyter.widget-view+json": {
       "model_id": "a9abef3b37ef4f899dd0496a1858ddf6",
       "version_major": 2,
       "version_minor": 0
      },
      "text/plain": [
       "VBox()"
      ]
     },
     "metadata": {},
     "output_type": "display_data"
    },
    {
     "data": {
      "application/vnd.jupyter.widget-view+json": {
       "model_id": "",
       "version_major": 2,
       "version_minor": 0
      },
      "text/plain": [
       "FloatProgress(value=0.0, bar_style='info', description='Progress:', layout=Layout(height='25px', width='50%'),…"
      ]
     },
     "metadata": {},
     "output_type": "display_data"
    }
   ],
   "source": [
    "# extract columns for users table\n",
    "# columns for users - user_id, first_name, last_name, gender, level****\n",
    "\n",
    "users_table = df_plays[\"userid\", \"firstName\", \"lastName\", \"gender\", \"level\", \"ts\"]\n",
    "users_table = users_table.orderBy(\"ts\",ascending=False).dropDuplicates(subset=[\"userId\"]).drop('ts')\n",
    "\n",
    "# write users table to parquet files\n",
    "users_table.write.parquet(f\"{outputfolderpath}/users.parquet\", \"overwrite\")"
   ]
  },
  {
   "cell_type": "code",
   "execution_count": 18,
   "id": "fea4f0ab-d6ad-4b5b-b108-3231214d62ce",
   "metadata": {
    "execution": {
     "iopub.execute_input": "2025-04-03T12:02:15.915627Z",
     "iopub.status.busy": "2025-04-03T12:02:15.915379Z",
     "iopub.status.idle": "2025-04-03T12:02:18.194568Z",
     "shell.execute_reply": "2025-04-03T12:02:18.193975Z",
     "shell.execute_reply.started": "2025-04-03T12:02:15.915592Z"
    }
   },
   "outputs": [
    {
     "data": {
      "application/vnd.jupyter.widget-view+json": {
       "model_id": "4ef5caf122d34669876080343a7fbf7e",
       "version_major": 2,
       "version_minor": 0
      },
      "text/plain": [
       "VBox()"
      ]
     },
     "metadata": {},
     "output_type": "display_data"
    },
    {
     "data": {
      "application/vnd.jupyter.widget-view+json": {
       "model_id": "",
       "version_major": 2,
       "version_minor": 0
      },
      "text/plain": [
       "FloatProgress(value=0.0, bar_style='info', description='Progress:', layout=Layout(height='25px', width='50%'),…"
      ]
     },
     "metadata": {},
     "output_type": "display_data"
    },
    {
     "name": "stdout",
     "output_type": "stream",
     "text": [
      "+------+---------+--------+------+-----+\n",
      "|userid|firstName|lastName|gender|level|\n",
      "+------+---------+--------+------+-----+\n",
      "|    10|   Sylvie|    Cruz|     F| free|\n",
      "|   100|    Adler| Barrera|     M| free|\n",
      "|   101|   Jayden|     Fox|     M| free|\n",
      "|    11|Christian|  Porter|     F| free|\n",
      "|    12|   Austin| Rosales|     M| free|\n",
      "|    13|      Ava|Robinson|     F| free|\n",
      "|    14| Theodore|  Harris|     M| free|\n",
      "|    15|     Lily|    Koch|     F| paid|\n",
      "|    16|    Rylan|  George|     M| paid|\n",
      "|    17| Makinley|   Jones|     F| free|\n",
      "|    18|    Jacob|  Rogers|     M| free|\n",
      "|    19|  Zachary|  Thomas|     M| free|\n",
      "|     2|  Jizelle|Benjamin|     F| free|\n",
      "|    20|    Aiden| Ramirez|     M| paid|\n",
      "|    22|     Sean|  Wilson|     F| free|\n",
      "|    23|   Morris| Gilmore|     M| free|\n",
      "|    24|    Layla| Griffin|     F| paid|\n",
      "|    25|   Jayden|  Graves|     M| paid|\n",
      "|    26|     Ryan|   Smith|     M| free|\n",
      "|    27|   Carlos|  Carter|     M| free|\n",
      "+------+---------+--------+------+-----+\n",
      "only showing top 20 rows"
     ]
    }
   ],
   "source": [
    "users_table.show()"
   ]
  },
  {
   "cell_type": "code",
   "execution_count": 19,
   "id": "5f5f825a-ef7b-4424-9a5a-40ac07381a75",
   "metadata": {
    "execution": {
     "iopub.execute_input": "2025-04-03T12:02:18.195686Z",
     "iopub.status.busy": "2025-04-03T12:02:18.195462Z",
     "iopub.status.idle": "2025-04-03T12:02:18.648808Z",
     "shell.execute_reply": "2025-04-03T12:02:18.648063Z",
     "shell.execute_reply.started": "2025-04-03T12:02:18.195650Z"
    }
   },
   "outputs": [
    {
     "data": {
      "application/vnd.jupyter.widget-view+json": {
       "model_id": "6ec0622d41e948ff85d8c7df295089a6",
       "version_major": 2,
       "version_minor": 0
      },
      "text/plain": [
       "VBox()"
      ]
     },
     "metadata": {},
     "output_type": "display_data"
    },
    {
     "data": {
      "application/vnd.jupyter.widget-view+json": {
       "model_id": "",
       "version_major": 2,
       "version_minor": 0
      },
      "text/plain": [
       "FloatProgress(value=0.0, bar_style='info', description='Progress:', layout=Layout(height='25px', width='50%'),…"
      ]
     },
     "metadata": {},
     "output_type": "display_data"
    }
   ],
   "source": [
    "# create timestamp column from original timestamp column\n",
    "get_datetime = udf(lambda x: datetime.fromtimestamp(int(int(x)/1000)), TimestampType())\n",
    "get_weekday = udf(lambda x: x.weekday())\n",
    "get_week = udf(lambda x: datetime.isocalendar(x)[1])\n",
    "get_hour = udf(lambda x: x.hour)\n",
    "get_day = udf(lambda x: x.day)\n",
    "get_year = udf(lambda x: x.year)\n",
    "get_month = udf(lambda x: x.month)\n",
    "\n",
    "df_plays = df_plays.withColumn(\"start_time\", get_datetime(df_plays.ts))\n",
    "df_plays = df_plays.withColumn(\"week_day\", get_weekday(df_plays.start_time))\n",
    "df_plays = df_plays.withColumn(\"week\", get_week(df_plays.start_time))\n",
    "df_plays = df_plays.withColumn(\"hour\", get_hour(df_plays.start_time))\n",
    "df_plays = df_plays.withColumn(\"day\", get_day(df_plays.start_time))\n",
    "df_plays = df_plays.withColumn(\"year\", get_year(df_plays.start_time))\n",
    "df_plays = df_plays.withColumn(\"month\", get_month(df_plays.start_time))\n"
   ]
  },
  {
   "cell_type": "code",
   "execution_count": 20,
   "id": "117a4af5-62a6-413b-a5bc-b05b6804be35",
   "metadata": {
    "execution": {
     "iopub.execute_input": "2025-04-03T12:02:18.650427Z",
     "iopub.status.busy": "2025-04-03T12:02:18.650150Z",
     "iopub.status.idle": "2025-04-03T12:02:18.900146Z",
     "shell.execute_reply": "2025-04-03T12:02:18.899514Z",
     "shell.execute_reply.started": "2025-04-03T12:02:18.650389Z"
    }
   },
   "outputs": [
    {
     "data": {
      "application/vnd.jupyter.widget-view+json": {
       "model_id": "37df0b20f3c94a5384d48e8a3b1e879a",
       "version_major": 2,
       "version_minor": 0
      },
      "text/plain": [
       "VBox()"
      ]
     },
     "metadata": {},
     "output_type": "display_data"
    },
    {
     "data": {
      "application/vnd.jupyter.widget-view+json": {
       "model_id": "",
       "version_major": 2,
       "version_minor": 0
      },
      "text/plain": [
       "FloatProgress(value=0.0, bar_style='info', description='Progress:', layout=Layout(height='25px', width='50%'),…"
      ]
     },
     "metadata": {},
     "output_type": "display_data"
    }
   ],
   "source": [
    "# extract columns to create time table\n",
    "time_table = df_plays.select(\"start_time\",\"hour\", \"day\", \"week\", \"month\", \"year\", \"week_day\")"
   ]
  },
  {
   "cell_type": "code",
   "execution_count": 21,
   "id": "20b471cd-aa26-482f-a97f-2692ff16cba9",
   "metadata": {
    "execution": {
     "iopub.execute_input": "2025-04-03T12:02:18.901375Z",
     "iopub.status.busy": "2025-04-03T12:02:18.901206Z",
     "iopub.status.idle": "2025-04-03T12:02:21.162943Z",
     "shell.execute_reply": "2025-04-03T12:02:21.162116Z",
     "shell.execute_reply.started": "2025-04-03T12:02:18.901353Z"
    }
   },
   "outputs": [
    {
     "data": {
      "application/vnd.jupyter.widget-view+json": {
       "model_id": "90ebcfe13e40414396fef9f9e3ef6a76",
       "version_major": 2,
       "version_minor": 0
      },
      "text/plain": [
       "VBox()"
      ]
     },
     "metadata": {},
     "output_type": "display_data"
    },
    {
     "data": {
      "application/vnd.jupyter.widget-view+json": {
       "model_id": "",
       "version_major": 2,
       "version_minor": 0
      },
      "text/plain": [
       "FloatProgress(value=0.0, bar_style='info', description='Progress:', layout=Layout(height='25px', width='50%'),…"
      ]
     },
     "metadata": {},
     "output_type": "display_data"
    },
    {
     "name": "stdout",
     "output_type": "stream",
     "text": [
      "+-------------------+----+---+----+-----+----+--------+\n",
      "|         start_time|hour|day|week|month|year|week_day|\n",
      "+-------------------+----+---+----+-----+----+--------+\n",
      "|2018-11-15 00:30:26|   0| 15|  46|   11|2018|       3|\n",
      "|2018-11-15 00:41:21|   0| 15|  46|   11|2018|       3|\n",
      "|2018-11-15 00:45:41|   0| 15|  46|   11|2018|       3|\n",
      "|2018-11-15 03:44:09|   3| 15|  46|   11|2018|       3|\n",
      "|2018-11-15 05:48:55|   5| 15|  46|   11|2018|       3|\n",
      "|2018-11-15 05:53:44|   5| 15|  46|   11|2018|       3|\n",
      "|2018-11-15 05:55:56|   5| 15|  46|   11|2018|       3|\n",
      "|2018-11-15 06:01:02|   6| 15|  46|   11|2018|       3|\n",
      "|2018-11-15 06:07:37|   6| 15|  46|   11|2018|       3|\n",
      "|2018-11-15 06:10:33|   6| 15|  46|   11|2018|       3|\n",
      "|2018-11-15 06:13:54|   6| 15|  46|   11|2018|       3|\n",
      "|2018-11-15 06:14:16|   6| 15|  46|   11|2018|       3|\n",
      "|2018-11-15 06:17:59|   6| 15|  46|   11|2018|       3|\n",
      "|2018-11-15 06:18:48|   6| 15|  46|   11|2018|       3|\n",
      "|2018-11-15 06:21:33|   6| 15|  46|   11|2018|       3|\n",
      "|2018-11-15 06:25:58|   6| 15|  46|   11|2018|       3|\n",
      "|2018-11-15 06:29:38|   6| 15|  46|   11|2018|       3|\n",
      "|2018-11-15 07:08:36|   7| 15|  46|   11|2018|       3|\n",
      "|2018-11-15 07:12:09|   7| 15|  46|   11|2018|       3|\n",
      "|2018-11-15 07:28:47|   7| 15|  46|   11|2018|       3|\n",
      "+-------------------+----+---+----+-----+----+--------+\n",
      "only showing top 20 rows"
     ]
    }
   ],
   "source": [
    "time_table.show()"
   ]
  },
  {
   "cell_type": "code",
   "execution_count": 22,
   "id": "717197ae-e2e1-4403-a338-1a967aa9ced1",
   "metadata": {
    "execution": {
     "iopub.execute_input": "2025-04-03T12:02:21.164172Z",
     "iopub.status.busy": "2025-04-03T12:02:21.163984Z",
     "iopub.status.idle": "2025-04-03T12:02:23.461511Z",
     "shell.execute_reply": "2025-04-03T12:02:23.460419Z",
     "shell.execute_reply.started": "2025-04-03T12:02:21.164142Z"
    }
   },
   "outputs": [
    {
     "data": {
      "application/vnd.jupyter.widget-view+json": {
       "model_id": "f8177fa5fb704aaa9ad85216adaaee99",
       "version_major": 2,
       "version_minor": 0
      },
      "text/plain": [
       "VBox()"
      ]
     },
     "metadata": {},
     "output_type": "display_data"
    },
    {
     "data": {
      "application/vnd.jupyter.widget-view+json": {
       "model_id": "",
       "version_major": 2,
       "version_minor": 0
      },
      "text/plain": [
       "FloatProgress(value=0.0, bar_style='info', description='Progress:', layout=Layout(height='25px', width='50%'),…"
      ]
     },
     "metadata": {},
     "output_type": "display_data"
    }
   ],
   "source": [
    "# write time table to parquet files partitioned by year and month\n",
    "time_table.write.partitionBy(\"year\", \"month\").parquet(f\"{outputfolderpath}/time_table.parquet\", \"overwrite\")"
   ]
  },
  {
   "cell_type": "code",
   "execution_count": 23,
   "id": "8c7b5268-f411-497f-93f2-aa5f477ef12a",
   "metadata": {
    "execution": {
     "iopub.execute_input": "2025-04-03T12:02:23.463020Z",
     "iopub.status.busy": "2025-04-03T12:02:23.462751Z",
     "iopub.status.idle": "2025-04-03T12:02:23.603090Z",
     "shell.execute_reply": "2025-04-03T12:02:23.602358Z",
     "shell.execute_reply.started": "2025-04-03T12:02:23.462984Z"
    }
   },
   "outputs": [
    {
     "data": {
      "application/vnd.jupyter.widget-view+json": {
       "model_id": "7148aca2ce6e4235b7c4396b07f32998",
       "version_major": 2,
       "version_minor": 0
      },
      "text/plain": [
       "VBox()"
      ]
     },
     "metadata": {},
     "output_type": "display_data"
    },
    {
     "data": {
      "application/vnd.jupyter.widget-view+json": {
       "model_id": "",
       "version_major": 2,
       "version_minor": 0
      },
      "text/plain": [
       "FloatProgress(value=0.0, bar_style='info', description='Progress:', layout=Layout(height='25px', width='50%'),…"
      ]
     },
     "metadata": {},
     "output_type": "display_data"
    }
   ],
   "source": [
    "# songplay_id, start_time, userId, level, song_id, artist_id, sessionId, location, userAgent\n",
    "\n",
    "df_total = song_data.join(df_plays, (song_data.title == df_plays.song) & (song_data.artist_name == df_plays.artist) )\n"
   ]
  },
  {
   "cell_type": "code",
   "execution_count": 24,
   "id": "88ed1e40-a3ae-4178-842d-9366d90f30b0",
   "metadata": {
    "execution": {
     "iopub.execute_input": "2025-04-03T12:02:23.604135Z",
     "iopub.status.busy": "2025-04-03T12:02:23.603970Z",
     "iopub.status.idle": "2025-04-03T12:02:23.853601Z",
     "shell.execute_reply": "2025-04-03T12:02:23.852897Z",
     "shell.execute_reply.started": "2025-04-03T12:02:23.604113Z"
    }
   },
   "outputs": [
    {
     "data": {
      "application/vnd.jupyter.widget-view+json": {
       "model_id": "26dcd33a8ce84401b4ce520cebd4f66f",
       "version_major": 2,
       "version_minor": 0
      },
      "text/plain": [
       "VBox()"
      ]
     },
     "metadata": {},
     "output_type": "display_data"
    },
    {
     "data": {
      "application/vnd.jupyter.widget-view+json": {
       "model_id": "",
       "version_major": 2,
       "version_minor": 0
      },
      "text/plain": [
       "FloatProgress(value=0.0, bar_style='info', description='Progress:', layout=Layout(height='25px', width='50%'),…"
      ]
     },
     "metadata": {},
     "output_type": "display_data"
    }
   ],
   "source": [
    "songplay = df_total[\"start_time\", \"userId\", \"level\", \"song_id\", \"artist_id\", \"sessionId\", \"location\", \"userAgent\"]"
   ]
  },
  {
   "cell_type": "code",
   "execution_count": 25,
   "id": "66622acb-d0f6-4063-9e81-50b710bd77ac",
   "metadata": {
    "execution": {
     "iopub.execute_input": "2025-04-03T12:02:23.854690Z",
     "iopub.status.busy": "2025-04-03T12:02:23.854527Z",
     "iopub.status.idle": "2025-04-03T12:02:27.123996Z",
     "shell.execute_reply": "2025-04-03T12:02:27.123223Z",
     "shell.execute_reply.started": "2025-04-03T12:02:23.854669Z"
    }
   },
   "outputs": [
    {
     "data": {
      "application/vnd.jupyter.widget-view+json": {
       "model_id": "7c274597e1974bcea066d58600796775",
       "version_major": 2,
       "version_minor": 0
      },
      "text/plain": [
       "VBox()"
      ]
     },
     "metadata": {},
     "output_type": "display_data"
    },
    {
     "data": {
      "application/vnd.jupyter.widget-view+json": {
       "model_id": "",
       "version_major": 2,
       "version_minor": 0
      },
      "text/plain": [
       "FloatProgress(value=0.0, bar_style='info', description='Progress:', layout=Layout(height='25px', width='50%'),…"
      ]
     },
     "metadata": {},
     "output_type": "display_data"
    },
    {
     "name": "stdout",
     "output_type": "stream",
     "text": [
      "+-------------------+------+-----+------------------+------------------+---------+--------------------+--------------------+-----------+\n",
      "|         start_time|userId|level|           song_id|         artist_id|sessionId|            location|           userAgent|songplay_id|\n",
      "+-------------------+------+-----+------------------+------------------+---------+--------------------+--------------------+-----------+\n",
      "|2018-11-21 21:56:47|    15| paid|SOZCTXZ12AB0182364|AR5KOSW1187FB35FF4|      818|Chicago-Napervill...|\"Mozilla/5.0 (X11...|          0|\n",
      "+-------------------+------+-----+------------------+------------------+---------+--------------------+--------------------+-----------+"
     ]
    }
   ],
   "source": [
    "songplay = songplay.withColumn(\"songplay_id\", monotonically_increasing_id())\n",
    "songplay.show(10)"
   ]
  },
  {
   "cell_type": "code",
   "execution_count": 27,
   "id": "667dc071-153c-4469-a899-4eef6a090ee8",
   "metadata": {
    "execution": {
     "iopub.execute_input": "2025-04-03T12:03:17.474422Z",
     "iopub.status.busy": "2025-04-03T12:03:17.474208Z",
     "iopub.status.idle": "2025-04-03T12:03:22.746554Z",
     "shell.execute_reply": "2025-04-03T12:03:22.745850Z",
     "shell.execute_reply.started": "2025-04-03T12:03:17.474399Z"
    },
    "tags": []
   },
   "outputs": [
    {
     "data": {
      "application/vnd.jupyter.widget-view+json": {
       "model_id": "02ab8dd8f0614bcabe7c7f7053dbce8c",
       "version_major": 2,
       "version_minor": 0
      },
      "text/plain": [
       "VBox()"
      ]
     },
     "metadata": {},
     "output_type": "display_data"
    },
    {
     "data": {
      "application/vnd.jupyter.widget-view+json": {
       "model_id": "",
       "version_major": 2,
       "version_minor": 0
      },
      "text/plain": [
       "FloatProgress(value=0.0, bar_style='info', description='Progress:', layout=Layout(height='25px', width='50%'),…"
      ]
     },
     "metadata": {},
     "output_type": "display_data"
    }
   ],
   "source": [
    "# write songplays table to parquet files partitioned by year and month\n",
    "songplay.write.parquet(f\"{outputfolderpath}/song_plays.parquet\", \"overwrite\")"
   ]
  },
  {
   "cell_type": "code",
   "execution_count": null,
   "id": "45614367-7092-4942-adc2-150705bcbe97",
   "metadata": {},
   "outputs": [],
   "source": [
    "# extract columns from joined song and log datasets to create songplays table \n",
    "log_df.createOrReplaceTempView(\"log_df_table\")\n",
    "song_df.createOrReplaceTempView(\"song_df_table\")\n",
    "\n",
    "songplays_table = spark.sql(\n",
    "    \"\"\"SELECT DISTINCT log_df_table.start_time, log_df_table.userId, log_df_table.level, log_df_table.sessionId, log_df_table.location,log_df_table.userAgent, song_df_table.song_id, song_df_table.artist_id\n",
    "    FROM log_df_table \n",
    "    INNER JOIN song_df_table \n",
    "    ON song_df_table.artist_name = log_df_table.artist \n",
    "    INNER JOIN time_table\n",
    "    ON time_table.start_time = log_df_table.start_time\n",
    "    GROUP BY time_table.year, time_table.month\n",
    "    \"\"\")\n",
    "songplays_table = songplays_table.withColumn(\"songplay_id\", monotonically_increasing_id()"
   ]
  }
 ],
 "metadata": {
  "kernelspec": {
   "display_name": "PySpark",
   "language": "python",
   "name": "pysparkkernel"
  },
  "language_info": {
   "codemirror_mode": {
    "name": "python",
    "version": 3
   },
   "file_extension": ".py",
   "mimetype": "text/x-python",
   "name": "pyspark",
   "pygments_lexer": "python3"
  }
 },
 "nbformat": 4,
 "nbformat_minor": 5
}
