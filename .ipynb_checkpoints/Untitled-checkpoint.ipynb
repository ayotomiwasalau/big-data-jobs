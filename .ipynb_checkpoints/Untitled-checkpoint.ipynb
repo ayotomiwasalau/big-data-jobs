{
 "cells": [
  {
   "cell_type": "code",
   "execution_count": 1,
   "metadata": {},
   "outputs": [],
   "source": [
    "import configparser\n",
    "from datetime import datetime\n",
    "import os\n",
    "from pyspark.sql import SparkSession\n",
    "from pyspark.sql.functions import udf, col\n",
    "from pyspark.sql.functions import year, month, dayofmonth, hour, weekofyear, date_format\n",
    "from pyspark.sql.types import TimestampType\n",
    "import zipfile\n",
    "from pyspark.sql.functions import monotonically_increasing_id"
   ]
  },
  {
   "cell_type": "code",
   "execution_count": 2,
   "metadata": {},
   "outputs": [
    {
     "ename": "MissingSectionHeaderError",
     "evalue": "File contains no section headers.\nfile: 'dl.cfg', line: 1\n\"AWS_ACCESS_KEY_ID=''\\n\"",
     "output_type": "error",
     "traceback": [
      "\u001b[0;31m---------------------------------------------------------------------------\u001b[0m",
      "\u001b[0;31mMissingSectionHeaderError\u001b[0m                 Traceback (most recent call last)",
      "\u001b[0;32m<ipython-input-2-b51c84fd19b4>\u001b[0m in \u001b[0;36m<module>\u001b[0;34m()\u001b[0m\n\u001b[1;32m      1\u001b[0m \u001b[0mconfig\u001b[0m \u001b[0;34m=\u001b[0m \u001b[0mconfigparser\u001b[0m\u001b[0;34m.\u001b[0m\u001b[0mConfigParser\u001b[0m\u001b[0;34m(\u001b[0m\u001b[0;34m)\u001b[0m\u001b[0;34m\u001b[0m\u001b[0m\n\u001b[0;32m----> 2\u001b[0;31m \u001b[0mconfig\u001b[0m\u001b[0;34m.\u001b[0m\u001b[0mread\u001b[0m\u001b[0;34m(\u001b[0m\u001b[0;34m'dl.cfg'\u001b[0m\u001b[0;34m)\u001b[0m\u001b[0;34m\u001b[0m\u001b[0m\n\u001b[0m\u001b[1;32m      3\u001b[0m \u001b[0;34m\u001b[0m\u001b[0m\n\u001b[1;32m      4\u001b[0m \u001b[0mos\u001b[0m\u001b[0;34m.\u001b[0m\u001b[0menviron\u001b[0m\u001b[0;34m[\u001b[0m\u001b[0;34m'AWS_ACCESS_KEY_ID'\u001b[0m\u001b[0;34m]\u001b[0m\u001b[0;34m=\u001b[0m\u001b[0mconfig\u001b[0m\u001b[0;34m[\u001b[0m\u001b[0;34m'AWS_ACCESS_KEY_ID'\u001b[0m\u001b[0;34m]\u001b[0m\u001b[0;34m\u001b[0m\u001b[0m\n\u001b[1;32m      5\u001b[0m \u001b[0mos\u001b[0m\u001b[0;34m.\u001b[0m\u001b[0menviron\u001b[0m\u001b[0;34m[\u001b[0m\u001b[0;34m'AWS_SECRET_ACCESS_KEY'\u001b[0m\u001b[0;34m]\u001b[0m\u001b[0;34m=\u001b[0m\u001b[0mconfig\u001b[0m\u001b[0;34m[\u001b[0m\u001b[0;34m'AWS_SECRET_ACCESS_KEY'\u001b[0m\u001b[0;34m]\u001b[0m\u001b[0;34m\u001b[0m\u001b[0m\n",
      "\u001b[0;32m/opt/conda/lib/python3.6/configparser.py\u001b[0m in \u001b[0;36mread\u001b[0;34m(self, filenames, encoding)\u001b[0m\n\u001b[1;32m    695\u001b[0m             \u001b[0;32mtry\u001b[0m\u001b[0;34m:\u001b[0m\u001b[0;34m\u001b[0m\u001b[0m\n\u001b[1;32m    696\u001b[0m                 \u001b[0;32mwith\u001b[0m \u001b[0mopen\u001b[0m\u001b[0;34m(\u001b[0m\u001b[0mfilename\u001b[0m\u001b[0;34m,\u001b[0m \u001b[0mencoding\u001b[0m\u001b[0;34m=\u001b[0m\u001b[0mencoding\u001b[0m\u001b[0;34m)\u001b[0m \u001b[0;32mas\u001b[0m \u001b[0mfp\u001b[0m\u001b[0;34m:\u001b[0m\u001b[0;34m\u001b[0m\u001b[0m\n\u001b[0;32m--> 697\u001b[0;31m                     \u001b[0mself\u001b[0m\u001b[0;34m.\u001b[0m\u001b[0m_read\u001b[0m\u001b[0;34m(\u001b[0m\u001b[0mfp\u001b[0m\u001b[0;34m,\u001b[0m \u001b[0mfilename\u001b[0m\u001b[0;34m)\u001b[0m\u001b[0;34m\u001b[0m\u001b[0m\n\u001b[0m\u001b[1;32m    698\u001b[0m             \u001b[0;32mexcept\u001b[0m \u001b[0mOSError\u001b[0m\u001b[0;34m:\u001b[0m\u001b[0;34m\u001b[0m\u001b[0m\n\u001b[1;32m    699\u001b[0m                 \u001b[0;32mcontinue\u001b[0m\u001b[0;34m\u001b[0m\u001b[0m\n",
      "\u001b[0;32m/opt/conda/lib/python3.6/configparser.py\u001b[0m in \u001b[0;36m_read\u001b[0;34m(self, fp, fpname)\u001b[0m\n\u001b[1;32m   1078\u001b[0m                 \u001b[0;31m# no section header in the file?\u001b[0m\u001b[0;34m\u001b[0m\u001b[0;34m\u001b[0m\u001b[0m\n\u001b[1;32m   1079\u001b[0m                 \u001b[0;32melif\u001b[0m \u001b[0mcursect\u001b[0m \u001b[0;32mis\u001b[0m \u001b[0;32mNone\u001b[0m\u001b[0;34m:\u001b[0m\u001b[0;34m\u001b[0m\u001b[0m\n\u001b[0;32m-> 1080\u001b[0;31m                     \u001b[0;32mraise\u001b[0m \u001b[0mMissingSectionHeaderError\u001b[0m\u001b[0;34m(\u001b[0m\u001b[0mfpname\u001b[0m\u001b[0;34m,\u001b[0m \u001b[0mlineno\u001b[0m\u001b[0;34m,\u001b[0m \u001b[0mline\u001b[0m\u001b[0;34m)\u001b[0m\u001b[0;34m\u001b[0m\u001b[0m\n\u001b[0m\u001b[1;32m   1081\u001b[0m                 \u001b[0;31m# an option line?\u001b[0m\u001b[0;34m\u001b[0m\u001b[0;34m\u001b[0m\u001b[0m\n\u001b[1;32m   1082\u001b[0m                 \u001b[0;32melse\u001b[0m\u001b[0;34m:\u001b[0m\u001b[0;34m\u001b[0m\u001b[0m\n",
      "\u001b[0;31mMissingSectionHeaderError\u001b[0m: File contains no section headers.\nfile: 'dl.cfg', line: 1\n\"AWS_ACCESS_KEY_ID=''\\n\""
     ]
    }
   ],
   "source": [
    "config = configparser.ConfigParser()\n",
    "config.read('dl.cfg')\n",
    "\n",
    "os.environ['AWS_ACCESS_KEY_ID']=config['AWS_ACCESS_KEY_ID']\n",
    "os.environ['AWS_SECRET_ACCESS_KEY']=config['AWS_SECRET_ACCESS_KEY']"
   ]
  },
  {
   "cell_type": "code",
   "execution_count": 2,
   "metadata": {},
   "outputs": [],
   "source": [
    "\n",
    "spark = SparkSession \\\n",
    "    .builder \\\n",
    "    .config(\"spark.jars.packages\", \"org.apache.hadoop:hadoop-aws:2.7.0\") \\\n",
    "    .getOrCreate()\n"
   ]
  },
  {
   "cell_type": "code",
   "execution_count": null,
   "metadata": {},
   "outputs": [],
   "source": []
  },
  {
   "cell_type": "code",
   "execution_count": 3,
   "metadata": {},
   "outputs": [],
   "source": [
    "# get filepath to song data file\n",
    "song_data_path = \"data/song_data/*/*/*/*.json\""
   ]
  },
  {
   "cell_type": "code",
   "execution_count": 4,
   "metadata": {},
   "outputs": [],
   "source": [
    "#Read file\n",
    "song_data = spark.read.json(song_data_path)"
   ]
  },
  {
   "cell_type": "code",
   "execution_count": 5,
   "metadata": {},
   "outputs": [
    {
     "name": "stdout",
     "output_type": "stream",
     "text": [
      "+------------------+---------------+--------------------+----------------+--------------------+---------+---------+------------------+--------------------+----+\n",
      "|         artist_id|artist_latitude|     artist_location|artist_longitude|         artist_name| duration|num_songs|           song_id|               title|year|\n",
      "+------------------+---------------+--------------------+----------------+--------------------+---------+---------+------------------+--------------------+----+\n",
      "|ARDR4AC1187FB371A1|           null|                    |            null|Montserrat Caball...|511.16363|        1|SOBAYLL12A8C138AF9|Sono andati? Fing...|   0|\n",
      "|AREBBGV1187FB523D2|           null|         Houston, TX|            null|Mike Jones (Featu...|173.66159|        1|SOOLYAZ12A6701F4A6|Laws Patrolling (...|   0|\n",
      "|ARMAC4T1187FB3FA4C|       40.82624|   Morris Plains, NJ|       -74.47995|The Dillinger Esc...|207.77751|        1|SOBBUGU12A8C13E95D|Setting Fire to S...|2004|\n",
      "|ARPBNLO1187FB3D52F|       40.71455|        New York, NY|       -74.00712|            Tiny Tim| 43.36281|        1|SOAOIBZ12AB01815BE|I Hold Your Hand ...|2000|\n",
      "|ARNF6401187FB57032|       40.79086|New York, NY [Man...|       -73.96644|   Sophie B. Hawkins|  305.162|        1|SONWXQJ12A8C134D94|The Ballad Of Sle...|1994|\n",
      "|ARDNS031187B9924F0|       32.67828|             Georgia|       -83.22295|          Tim Wilson|186.48771|        1|SONYPOM12A8C13B2D7|I Think My Wife I...|2005|\n",
      "|ARLTWXK1187FB5A3F8|       32.74863|      Fort Worth, TX|       -97.32925|         King Curtis|326.00771|        1|SODREIN12A58A7F2E5|A Whiter Shade Of...|   0|\n",
      "|ARPFHN61187FB575F6|       41.88415|         Chicago, IL|       -87.63241|         Lupe Fiasco|279.97995|        1|SOWQTQZ12A58A7B63E|Streets On Fire (...|   0|\n",
      "|ARI2JSK1187FB496EF|       51.50632|     London, England|        -0.12714|Nick Ingman;Gavyn...|111.62077|        1|SODUJBS12A8C132150|Wessex Loses a Bride|   0|\n",
      "|AR9AWNF1187B9AB0B4|           null|Seattle, Washingt...|            null|Kenny G featuring...|236.93016|        1|SOZHPGD12A8C1394FE|     Baby Come To Me|   0|\n",
      "|AR0RCMP1187FB3F427|       30.08615|        Beaumont, TX|       -94.10158|    Billie Jo Spears|133.32853|        1|SOGXHEG12AB018653E|It Makes No Diffe...|1992|\n",
      "|AROUOZZ1187B9ABE51|       40.79195|New York, NY [Spa...|       -73.94512|         Willie Bobo|168.25424|        1|SOBZBAZ12A6D4F8742|      Spanish Grease|1997|\n",
      "|AR47JEX1187B995D81|       37.83721|          Nevada, MO|       -94.35868|        SUE THOMPSON|124.86485|        1|SOBLGCN12AB0183212|James (Hold The L...|1985|\n",
      "|ARKFYS91187B98E58F|           null|                    |            null|Jeff And Sheri Ea...| 267.7024|        1|SOYMRWW12A6D4FAB14|The Moon And I (O...|   0|\n",
      "|ARB29H41187B98F0EF|       41.88415|             Chicago|       -87.63241|       Terry Callier|342.56934|        1|SOGNCJP12A58A80271|Do You Finally Ne...|1972|\n",
      "|AR10USD1187B99F3F1|           null|Burlington, Ontar...|            null|Tweeterfriendly M...|189.57016|        1|SOHKNRJ12A6701D1F8|        Drop of Rain|   0|\n",
      "|ARQGYP71187FB44566|       34.31109|         Mineola, AR|       -94.02978|        Jimmy Wakely|151.84934|        1|SOWTBJW12AC468AC6E|Broken-Down Merry...|   0|\n",
      "|ARBEBBY1187B9B43DB|           null|     Gainesville, FL|            null|           Tom Petty|236.17261|        1|SOFFKZS12AB017F194|A Higher Place (A...|1994|\n",
      "|AR36F9J1187FB406F1|       56.27609|             Denmark|         9.51695|      Bombay Rockers|230.71302|        1|SOBKWDJ12A8C13B2F3|Wild Rose (Back 2...|   0|\n",
      "|ARMBR4Y1187B9990EB|       37.77916|     California - SF|      -122.42005|        David Martin|241.47546|        1|SOTTDKS12AB018D69B|It Wont Be Christmas|   0|\n",
      "+------------------+---------------+--------------------+----------------+--------------------+---------+---------+------------------+--------------------+----+\n",
      "only showing top 20 rows\n",
      "\n"
     ]
    }
   ],
   "source": [
    "song_data.show()"
   ]
  },
  {
   "cell_type": "code",
   "execution_count": 6,
   "metadata": {},
   "outputs": [],
   "source": [
    "# extract columns to create songs table song_id, title, artist_id, year, duration****\n",
    "songs_table = song_data[\"song_id\", \"title\", \"artist_id\", \"year\", \"duration\", \"artist_name\"]\n",
    "songs_table = songs_table.drop_duplicates(subset=['song_id'])"
   ]
  },
  {
   "cell_type": "code",
   "execution_count": 7,
   "metadata": {},
   "outputs": [
    {
     "name": "stdout",
     "output_type": "stream",
     "text": [
      "+------------------+-------------------+------------------+----+---------+----------------+\n",
      "|           song_id|              title|         artist_id|year| duration|     artist_name|\n",
      "+------------------+-------------------+------------------+----+---------+----------------+\n",
      "|SOGOSOV12AF72A285E|  ¿Dónde va Chichi?|ARGUVEV1187B98BA17|1997|313.12934|  Sierra Maestra|\n",
      "|SOMZWCG12A8C13C480|   I Didn't Mean To|ARD7TVE1187B99BFB1|   0|218.93179|          Casual|\n",
      "|SOUPIRU12A6D4FA1E1|Der Kleine Dompfaff|ARJIE2Y1187B994AB7|   0|152.92036|     Line Renaud|\n",
      "|SOXVLOJ12AB0189215|    Amor De Cabaret|ARKRRTF1187B9984DA|   0|177.47546|Sonora Santanera|\n",
      "+------------------+-------------------+------------------+----+---------+----------------+\n",
      "only showing top 4 rows\n",
      "\n"
     ]
    }
   ],
   "source": [
    "songs_table.show(4)"
   ]
  },
  {
   "cell_type": "code",
   "execution_count": 8,
   "metadata": {},
   "outputs": [],
   "source": [
    "# write songs table to parquet files partitioned by year and artist\n",
    "songs_table.write.partitionBy(\"year\", \"artist_id\").parquet(\"home/workspace/songs_table.parquet\", \"overwrite\")"
   ]
  },
  {
   "cell_type": "code",
   "execution_count": 9,
   "metadata": {},
   "outputs": [],
   "source": [
    "# extract columns to create artists table\n",
    "artists_table = song_data[\"artist_id\", \"artist_name\", \"artist_location\", \"artist_latitude\", \"artist_longitude\"]\n",
    "\n",
    "# write artists table to parquet files\n",
    "artists_table.write.parquet(\"home/workspace/artists_table.parquet\", \"overwrite\")"
   ]
  },
  {
   "cell_type": "code",
   "execution_count": 10,
   "metadata": {},
   "outputs": [
    {
     "ename": "SyntaxError",
     "evalue": "invalid syntax (<ipython-input-10-e665d0ea1b30>, line 5)",
     "output_type": "error",
     "traceback": [
      "\u001b[0;36m  File \u001b[0;32m\"<ipython-input-10-e665d0ea1b30>\"\u001b[0;36m, line \u001b[0;32m5\u001b[0m\n\u001b[0;31m    df =\u001b[0m\n\u001b[0m         ^\u001b[0m\n\u001b[0;31mSyntaxError\u001b[0m\u001b[0;31m:\u001b[0m invalid syntax\n"
     ]
    }
   ],
   "source": [
    "def process_song_data(spark, input_data, output_data):\n",
    "    # get filepath to song data file\n",
    "    song_data = \"./data/log-data.zip\"\n",
    "                \n",
    "    df = \n",
    "\n",
    "    # extract columns to create songs table\n",
    "    songs_table = \n",
    "    \n",
    "    # write songs table to parquet files partitioned by year and artist\n",
    "    songs_table\n",
    "\n",
    "    # extract columns to create artists table\n",
    "    artists_table = \n",
    "    \n",
    "    # write artists table to parquet files\n",
    "    artists_table"
   ]
  },
  {
   "cell_type": "code",
   "execution_count": null,
   "metadata": {},
   "outputs": [],
   "source": []
  },
  {
   "cell_type": "code",
   "execution_count": null,
   "metadata": {},
   "outputs": [],
   "source": []
  },
  {
   "cell_type": "code",
   "execution_count": 13,
   "metadata": {},
   "outputs": [],
   "source": [
    "# get filepath to song data file\n",
    "log_data_path = \"data/log_data/*.json\"\n",
    "dfLog = spark.read.json(log_data_path)"
   ]
  },
  {
   "cell_type": "code",
   "execution_count": 14,
   "metadata": {},
   "outputs": [
    {
     "name": "stdout",
     "output_type": "stream",
     "text": [
      "root\n",
      " |-- artist: string (nullable = true)\n",
      " |-- auth: string (nullable = true)\n",
      " |-- firstName: string (nullable = true)\n",
      " |-- gender: string (nullable = true)\n",
      " |-- itemInSession: long (nullable = true)\n",
      " |-- lastName: string (nullable = true)\n",
      " |-- length: double (nullable = true)\n",
      " |-- level: string (nullable = true)\n",
      " |-- location: string (nullable = true)\n",
      " |-- method: string (nullable = true)\n",
      " |-- page: string (nullable = true)\n",
      " |-- registration: double (nullable = true)\n",
      " |-- sessionId: long (nullable = true)\n",
      " |-- song: string (nullable = true)\n",
      " |-- status: long (nullable = true)\n",
      " |-- ts: long (nullable = true)\n",
      " |-- userAgent: string (nullable = true)\n",
      " |-- userId: string (nullable = true)\n",
      "\n"
     ]
    }
   ],
   "source": [
    "dfLog.printSchema()"
   ]
  },
  {
   "cell_type": "code",
   "execution_count": 15,
   "metadata": {},
   "outputs": [
    {
     "data": {
      "text/html": [
       "<div>\n",
       "<style scoped>\n",
       "    .dataframe tbody tr th:only-of-type {\n",
       "        vertical-align: middle;\n",
       "    }\n",
       "\n",
       "    .dataframe tbody tr th {\n",
       "        vertical-align: top;\n",
       "    }\n",
       "\n",
       "    .dataframe thead th {\n",
       "        text-align: right;\n",
       "    }\n",
       "</style>\n",
       "<table border=\"1\" class=\"dataframe\">\n",
       "  <thead>\n",
       "    <tr style=\"text-align: right;\">\n",
       "      <th></th>\n",
       "      <th>artist</th>\n",
       "      <th>auth</th>\n",
       "      <th>firstName</th>\n",
       "      <th>gender</th>\n",
       "      <th>itemInSession</th>\n",
       "      <th>lastName</th>\n",
       "      <th>length</th>\n",
       "      <th>level</th>\n",
       "      <th>location</th>\n",
       "      <th>method</th>\n",
       "      <th>page</th>\n",
       "      <th>registration</th>\n",
       "      <th>sessionId</th>\n",
       "      <th>song</th>\n",
       "      <th>status</th>\n",
       "      <th>ts</th>\n",
       "      <th>userAgent</th>\n",
       "      <th>userId</th>\n",
       "    </tr>\n",
       "  </thead>\n",
       "  <tbody>\n",
       "    <tr>\n",
       "      <th>0</th>\n",
       "      <td>Harmonia</td>\n",
       "      <td>Logged In</td>\n",
       "      <td>Ryan</td>\n",
       "      <td>M</td>\n",
       "      <td>0</td>\n",
       "      <td>Smith</td>\n",
       "      <td>655.77751</td>\n",
       "      <td>free</td>\n",
       "      <td>San Jose-Sunnyvale-Santa Clara, CA</td>\n",
       "      <td>PUT</td>\n",
       "      <td>NextSong</td>\n",
       "      <td>1.541017e+12</td>\n",
       "      <td>583</td>\n",
       "      <td>Sehr kosmisch</td>\n",
       "      <td>200</td>\n",
       "      <td>1542241826796</td>\n",
       "      <td>\"Mozilla/5.0 (X11; Linux x86_64) AppleWebKit/5...</td>\n",
       "      <td>26</td>\n",
       "    </tr>\n",
       "    <tr>\n",
       "      <th>1</th>\n",
       "      <td>The Prodigy</td>\n",
       "      <td>Logged In</td>\n",
       "      <td>Ryan</td>\n",
       "      <td>M</td>\n",
       "      <td>1</td>\n",
       "      <td>Smith</td>\n",
       "      <td>260.07465</td>\n",
       "      <td>free</td>\n",
       "      <td>San Jose-Sunnyvale-Santa Clara, CA</td>\n",
       "      <td>PUT</td>\n",
       "      <td>NextSong</td>\n",
       "      <td>1.541017e+12</td>\n",
       "      <td>583</td>\n",
       "      <td>The Big Gundown</td>\n",
       "      <td>200</td>\n",
       "      <td>1542242481796</td>\n",
       "      <td>\"Mozilla/5.0 (X11; Linux x86_64) AppleWebKit/5...</td>\n",
       "      <td>26</td>\n",
       "    </tr>\n",
       "    <tr>\n",
       "      <th>2</th>\n",
       "      <td>Train</td>\n",
       "      <td>Logged In</td>\n",
       "      <td>Ryan</td>\n",
       "      <td>M</td>\n",
       "      <td>2</td>\n",
       "      <td>Smith</td>\n",
       "      <td>205.45261</td>\n",
       "      <td>free</td>\n",
       "      <td>San Jose-Sunnyvale-Santa Clara, CA</td>\n",
       "      <td>PUT</td>\n",
       "      <td>NextSong</td>\n",
       "      <td>1.541017e+12</td>\n",
       "      <td>583</td>\n",
       "      <td>Marry Me</td>\n",
       "      <td>200</td>\n",
       "      <td>1542242741796</td>\n",
       "      <td>\"Mozilla/5.0 (X11; Linux x86_64) AppleWebKit/5...</td>\n",
       "      <td>26</td>\n",
       "    </tr>\n",
       "    <tr>\n",
       "      <th>3</th>\n",
       "      <td>None</td>\n",
       "      <td>Logged In</td>\n",
       "      <td>Wyatt</td>\n",
       "      <td>M</td>\n",
       "      <td>0</td>\n",
       "      <td>Scott</td>\n",
       "      <td>NaN</td>\n",
       "      <td>free</td>\n",
       "      <td>Eureka-Arcata-Fortuna, CA</td>\n",
       "      <td>GET</td>\n",
       "      <td>Home</td>\n",
       "      <td>1.540872e+12</td>\n",
       "      <td>563</td>\n",
       "      <td>None</td>\n",
       "      <td>200</td>\n",
       "      <td>1542247071796</td>\n",
       "      <td>Mozilla/5.0 (Windows NT 6.1; WOW64; Trident/7....</td>\n",
       "      <td>9</td>\n",
       "    </tr>\n",
       "    <tr>\n",
       "      <th>4</th>\n",
       "      <td>None</td>\n",
       "      <td>Logged In</td>\n",
       "      <td>Austin</td>\n",
       "      <td>M</td>\n",
       "      <td>0</td>\n",
       "      <td>Rosales</td>\n",
       "      <td>NaN</td>\n",
       "      <td>free</td>\n",
       "      <td>New York-Newark-Jersey City, NY-NJ-PA</td>\n",
       "      <td>GET</td>\n",
       "      <td>Home</td>\n",
       "      <td>1.541060e+12</td>\n",
       "      <td>521</td>\n",
       "      <td>None</td>\n",
       "      <td>200</td>\n",
       "      <td>1542252577796</td>\n",
       "      <td>Mozilla/5.0 (Windows NT 6.1; rv:31.0) Gecko/20...</td>\n",
       "      <td>12</td>\n",
       "    </tr>\n",
       "  </tbody>\n",
       "</table>\n",
       "</div>"
      ],
      "text/plain": [
       "        artist       auth firstName gender  itemInSession lastName     length  \\\n",
       "0     Harmonia  Logged In      Ryan      M              0    Smith  655.77751   \n",
       "1  The Prodigy  Logged In      Ryan      M              1    Smith  260.07465   \n",
       "2        Train  Logged In      Ryan      M              2    Smith  205.45261   \n",
       "3         None  Logged In     Wyatt      M              0    Scott        NaN   \n",
       "4         None  Logged In    Austin      M              0  Rosales        NaN   \n",
       "\n",
       "  level                               location method      page  registration  \\\n",
       "0  free     San Jose-Sunnyvale-Santa Clara, CA    PUT  NextSong  1.541017e+12   \n",
       "1  free     San Jose-Sunnyvale-Santa Clara, CA    PUT  NextSong  1.541017e+12   \n",
       "2  free     San Jose-Sunnyvale-Santa Clara, CA    PUT  NextSong  1.541017e+12   \n",
       "3  free              Eureka-Arcata-Fortuna, CA    GET      Home  1.540872e+12   \n",
       "4  free  New York-Newark-Jersey City, NY-NJ-PA    GET      Home  1.541060e+12   \n",
       "\n",
       "   sessionId             song  status             ts  \\\n",
       "0        583    Sehr kosmisch     200  1542241826796   \n",
       "1        583  The Big Gundown     200  1542242481796   \n",
       "2        583         Marry Me     200  1542242741796   \n",
       "3        563             None     200  1542247071796   \n",
       "4        521             None     200  1542252577796   \n",
       "\n",
       "                                           userAgent userId  \n",
       "0  \"Mozilla/5.0 (X11; Linux x86_64) AppleWebKit/5...     26  \n",
       "1  \"Mozilla/5.0 (X11; Linux x86_64) AppleWebKit/5...     26  \n",
       "2  \"Mozilla/5.0 (X11; Linux x86_64) AppleWebKit/5...     26  \n",
       "3  Mozilla/5.0 (Windows NT 6.1; WOW64; Trident/7....      9  \n",
       "4  Mozilla/5.0 (Windows NT 6.1; rv:31.0) Gecko/20...     12  "
      ]
     },
     "execution_count": 15,
     "metadata": {},
     "output_type": "execute_result"
    }
   ],
   "source": [
    "dfLog.limit(5).toPandas()"
   ]
  },
  {
   "cell_type": "code",
   "execution_count": 16,
   "metadata": {},
   "outputs": [],
   "source": [
    "# filter by actions for song plays\n",
    "df_plays = dfLog.where(dfLog.page == \"NextSong\")\n"
   ]
  },
  {
   "cell_type": "code",
   "execution_count": 29,
   "metadata": {},
   "outputs": [
    {
     "data": {
      "text/plain": [
       "6820"
      ]
     },
     "execution_count": 29,
     "metadata": {},
     "output_type": "execute_result"
    }
   ],
   "source": [
    "df_plays.count()"
   ]
  },
  {
   "cell_type": "code",
   "execution_count": 17,
   "metadata": {},
   "outputs": [],
   "source": [
    "# extract columns for users table\n",
    "# columns for users - user_id, first_name, last_name, gender, level****\n",
    "\n",
    "users_table = df_plays[\"userid\", \"firstName\", \"lastName\", \"gender\", \"level\", \"ts\"]\n",
    "users_table = users_table.orderBy(\"ts\",ascending=False).dropDuplicates(subset=[\"userId\"]).drop('ts')\n",
    "\n",
    "# write users table to parquet files\n",
    "users_table.write.parquet(\"home/workspace/users.parquet\", \"overwrite\")\n"
   ]
  },
  {
   "cell_type": "code",
   "execution_count": 18,
   "metadata": {},
   "outputs": [
    {
     "name": "stdout",
     "output_type": "stream",
     "text": [
      "+------+----------+--------+------+-----+\n",
      "|userid| firstName|lastName|gender|level|\n",
      "+------+----------+--------+------+-----+\n",
      "|    51|      Maia|   Burke|     F| free|\n",
      "|     7|    Adelyn|  Jordan|     F| free|\n",
      "|    15|      Lily|    Koch|     F| paid|\n",
      "|    54|     Kaleb|    Cook|     M| free|\n",
      "|   101|    Jayden|     Fox|     M| free|\n",
      "|    11| Christian|  Porter|     F| free|\n",
      "|    29|Jacqueline|   Lynch|     F| paid|\n",
      "|    69|  Anabelle| Simpson|     F| free|\n",
      "|    42|    Harper| Barrett|     M| paid|\n",
      "|    73|     Jacob|   Klein|     M| paid|\n",
      "|    87|    Dustin|     Lee|     M| free|\n",
      "|    64|    Hannah| Calhoun|     F| free|\n",
      "|     3|     Isaac|  Valdez|     M| free|\n",
      "|    30|     Avery| Watkins|     F| paid|\n",
      "|    34|    Evelin|   Ayala|     F| free|\n",
      "|    59|      Lily|  Cooper|     F| free|\n",
      "|     8|    Kaylee| Summers|     F| free|\n",
      "|    22|      Sean|  Wilson|     F| free|\n",
      "|    28|  Brantley|    West|     M| free|\n",
      "|    85|   Kinsley|   Young|     F| paid|\n",
      "+------+----------+--------+------+-----+\n",
      "only showing top 20 rows\n",
      "\n"
     ]
    }
   ],
   "source": [
    "users_table.show()"
   ]
  },
  {
   "cell_type": "code",
   "execution_count": 19,
   "metadata": {},
   "outputs": [],
   "source": [
    "# create timestamp column from original timestamp column\n",
    "get_datetime = udf(lambda x: datetime.fromtimestamp(int(int(x)/1000)), TimestampType())\n",
    "get_weekday = udf(lambda x: x.weekday())\n",
    "get_week = udf(lambda x: datetime.isocalendar(x)[1])\n",
    "get_hour = udf(lambda x: x.hour)\n",
    "get_day = udf(lambda x: x.day)\n",
    "get_year = udf(lambda x: x.year)\n",
    "get_month = udf(lambda x: x.month)\n",
    "\n",
    "df_plays = df_plays.withColumn(\"start_time\", get_datetime(df_plays.ts))\n",
    "df_plays = df_plays.withColumn(\"week_day\", get_weekday(df_plays.start_time))\n",
    "df_plays = df_plays.withColumn(\"week\", get_week(df_plays.start_time))\n",
    "df_plays = df_plays.withColumn(\"hour\", get_hour(df_plays.start_time))\n",
    "df_plays = df_plays.withColumn(\"day\", get_day(df_plays.start_time))\n",
    "df_plays = df_plays.withColumn(\"year\", get_year(df_plays.start_time))\n",
    "df_plays = df_plays.withColumn(\"month\", get_month(df_plays.start_time))\n",
    "\n"
   ]
  },
  {
   "cell_type": "code",
   "execution_count": 20,
   "metadata": {},
   "outputs": [],
   "source": [
    "# extract columns to create time table\n",
    "time_table = df_plays.select(\"start_time\",\"hour\", \"day\", \"week\", \"month\", \"year\", \"week_day\")\n"
   ]
  },
  {
   "cell_type": "code",
   "execution_count": 21,
   "metadata": {},
   "outputs": [
    {
     "name": "stdout",
     "output_type": "stream",
     "text": [
      "+-------------------+----+---+----+-----+----+--------+\n",
      "|         start_time|hour|day|week|month|year|week_day|\n",
      "+-------------------+----+---+----+-----+----+--------+\n",
      "|2018-11-15 00:30:26|   0| 15|  46|   11|2018|       3|\n",
      "|2018-11-15 00:41:21|   0| 15|  46|   11|2018|       3|\n",
      "|2018-11-15 00:45:41|   0| 15|  46|   11|2018|       3|\n",
      "|2018-11-15 03:44:09|   3| 15|  46|   11|2018|       3|\n",
      "|2018-11-15 05:48:55|   5| 15|  46|   11|2018|       3|\n",
      "|2018-11-15 05:53:44|   5| 15|  46|   11|2018|       3|\n",
      "|2018-11-15 05:55:56|   5| 15|  46|   11|2018|       3|\n",
      "|2018-11-15 06:01:02|   6| 15|  46|   11|2018|       3|\n",
      "|2018-11-15 06:07:37|   6| 15|  46|   11|2018|       3|\n",
      "|2018-11-15 06:10:33|   6| 15|  46|   11|2018|       3|\n",
      "|2018-11-15 06:13:54|   6| 15|  46|   11|2018|       3|\n",
      "|2018-11-15 06:14:16|   6| 15|  46|   11|2018|       3|\n",
      "|2018-11-15 06:17:59|   6| 15|  46|   11|2018|       3|\n",
      "|2018-11-15 06:18:48|   6| 15|  46|   11|2018|       3|\n",
      "|2018-11-15 06:21:33|   6| 15|  46|   11|2018|       3|\n",
      "|2018-11-15 06:25:58|   6| 15|  46|   11|2018|       3|\n",
      "|2018-11-15 06:29:38|   6| 15|  46|   11|2018|       3|\n",
      "|2018-11-15 07:08:36|   7| 15|  46|   11|2018|       3|\n",
      "|2018-11-15 07:12:09|   7| 15|  46|   11|2018|       3|\n",
      "|2018-11-15 07:28:47|   7| 15|  46|   11|2018|       3|\n",
      "+-------------------+----+---+----+-----+----+--------+\n",
      "only showing top 20 rows\n",
      "\n"
     ]
    }
   ],
   "source": [
    "time_table.show()"
   ]
  },
  {
   "cell_type": "code",
   "execution_count": 22,
   "metadata": {},
   "outputs": [],
   "source": [
    "# write time table to parquet files partitioned by year and month\n",
    "time_table.write.partitionBy(\"year\", \"month\").parquet(\"home/workspace/time_table.parquet\", \"overwrite\")"
   ]
  },
  {
   "cell_type": "code",
   "execution_count": 41,
   "metadata": {},
   "outputs": [],
   "source": [
    "# read in song data to use for songplays table\n",
    "song_df = spark.read.json(\"data/song_data/*/*/*/*.json\")"
   ]
  },
  {
   "cell_type": "code",
   "execution_count": 42,
   "metadata": {},
   "outputs": [
    {
     "name": "stdout",
     "output_type": "stream",
     "text": [
      "+------------------+---------------+-----------------+----------------+--------------------+---------+---------+------------------+--------------------+----+\n",
      "|         artist_id|artist_latitude|  artist_location|artist_longitude|         artist_name| duration|num_songs|           song_id|               title|year|\n",
      "+------------------+---------------+-----------------+----------------+--------------------+---------+---------+------------------+--------------------+----+\n",
      "|ARDR4AC1187FB371A1|           null|                 |            null|Montserrat Caball...|511.16363|        1|SOBAYLL12A8C138AF9|Sono andati? Fing...|   0|\n",
      "|AREBBGV1187FB523D2|           null|      Houston, TX|            null|Mike Jones (Featu...|173.66159|        1|SOOLYAZ12A6701F4A6|Laws Patrolling (...|   0|\n",
      "|ARMAC4T1187FB3FA4C|       40.82624|Morris Plains, NJ|       -74.47995|The Dillinger Esc...|207.77751|        1|SOBBUGU12A8C13E95D|Setting Fire to S...|2004|\n",
      "|ARPBNLO1187FB3D52F|       40.71455|     New York, NY|       -74.00712|            Tiny Tim| 43.36281|        1|SOAOIBZ12AB01815BE|I Hold Your Hand ...|2000|\n",
      "+------------------+---------------+-----------------+----------------+--------------------+---------+---------+------------------+--------------------+----+\n",
      "only showing top 4 rows\n",
      "\n"
     ]
    }
   ],
   "source": [
    "song_df.show(4)"
   ]
  },
  {
   "cell_type": "code",
   "execution_count": 43,
   "metadata": {},
   "outputs": [
    {
     "data": {
      "text/plain": [
       "71"
      ]
     },
     "execution_count": 43,
     "metadata": {},
     "output_type": "execute_result"
    }
   ],
   "source": [
    "song_df.count()"
   ]
  },
  {
   "cell_type": "code",
   "execution_count": null,
   "metadata": {},
   "outputs": [],
   "source": []
  },
  {
   "cell_type": "code",
   "execution_count": 44,
   "metadata": {},
   "outputs": [
    {
     "name": "stdout",
     "output_type": "stream",
     "text": [
      "+-----------+---------+---------+------+-------------+--------+---------+-----+--------------------+------+--------+-----------------+---------+---------------+------+-------------+--------------------+------+-------------------+--------+----+----+---+----+-----+\n",
      "|     artist|     auth|firstName|gender|itemInSession|lastName|   length|level|            location|method|    page|     registration|sessionId|           song|status|           ts|           userAgent|userId|         start_time|week_day|week|hour|day|year|month|\n",
      "+-----------+---------+---------+------+-------------+--------+---------+-----+--------------------+------+--------+-----------------+---------+---------------+------+-------------+--------------------+------+-------------------+--------+----+----+---+----+-----+\n",
      "|   Harmonia|Logged In|     Ryan|     M|            0|   Smith|655.77751| free|San Jose-Sunnyval...|   PUT|NextSong|1.541016707796E12|      583|  Sehr kosmisch|   200|1542241826796|\"Mozilla/5.0 (X11...|    26|2018-11-15 00:30:26|       3|  46|   0| 15|2018|   11|\n",
      "|The Prodigy|Logged In|     Ryan|     M|            1|   Smith|260.07465| free|San Jose-Sunnyval...|   PUT|NextSong|1.541016707796E12|      583|The Big Gundown|   200|1542242481796|\"Mozilla/5.0 (X11...|    26|2018-11-15 00:41:21|       3|  46|   0| 15|2018|   11|\n",
      "|      Train|Logged In|     Ryan|     M|            2|   Smith|205.45261| free|San Jose-Sunnyval...|   PUT|NextSong|1.541016707796E12|      583|       Marry Me|   200|1542242741796|\"Mozilla/5.0 (X11...|    26|2018-11-15 00:45:41|       3|  46|   0| 15|2018|   11|\n",
      "|Sony Wonder|Logged In|   Samuel|     M|            0|Gonzalez|218.06975| free|Houston-The Woodl...|   PUT|NextSong|1.540492941796E12|      597|      Blackbird|   200|1542253449796|\"Mozilla/5.0 (Mac...|    61|2018-11-15 03:44:09|       3|  46|   3| 15|2018|   11|\n",
      "+-----------+---------+---------+------+-------------+--------+---------+-----+--------------------+------+--------+-----------------+---------+---------------+------+-------------+--------------------+------+-------------------+--------+----+----+---+----+-----+\n",
      "only showing top 4 rows\n",
      "\n"
     ]
    }
   ],
   "source": [
    "df_plays.show(4)"
   ]
  },
  {
   "cell_type": "code",
   "execution_count": 49,
   "metadata": {},
   "outputs": [],
   "source": [
    "# songplay_id, start_time, userId, level, song_id, artist_id, sessionId, location, userAgent\n",
    "\n",
    "df_total = song_df.join(df_plays, (song_df.title == df_plays.song) & (song_df.artist_name == df_plays.artist))\n"
   ]
  },
  {
   "cell_type": "code",
   "execution_count": 50,
   "metadata": {},
   "outputs": [],
   "source": [
    "songplay = df_total[\"start_time\", \"userId\", \"level\", \"song_id\", \"artist_id\", \"sessionId\", \"location\", \"userAgent\"]"
   ]
  },
  {
   "cell_type": "code",
   "execution_count": 51,
   "metadata": {},
   "outputs": [
    {
     "name": "stdout",
     "output_type": "stream",
     "text": [
      "+-------------------+------+-----+------------------+------------------+---------+--------------------+--------------------+-----------+\n",
      "|         start_time|userId|level|           song_id|         artist_id|sessionId|            location|           userAgent|songplay_id|\n",
      "+-------------------+------+-----+------------------+------------------+---------+--------------------+--------------------+-----------+\n",
      "|2018-11-21 21:56:47|    15| paid|SOZCTXZ12AB0182364|AR5KOSW1187FB35FF4|      818|Chicago-Napervill...|\"Mozilla/5.0 (X11...|          0|\n",
      "+-------------------+------+-----+------------------+------------------+---------+--------------------+--------------------+-----------+\n",
      "\n"
     ]
    }
   ],
   "source": [
    "songplay = songplay.withColumn(\"songplay_id\", monotonically_increasing_id())\n",
    "songplay.show(10)"
   ]
  },
  {
   "cell_type": "code",
   "execution_count": 48,
   "metadata": {},
   "outputs": [
    {
     "data": {
      "text/plain": [
       "4"
      ]
     },
     "execution_count": 48,
     "metadata": {},
     "output_type": "execute_result"
    }
   ],
   "source": [
    "songplay.count()"
   ]
  },
  {
   "cell_type": "code",
   "execution_count": 39,
   "metadata": {},
   "outputs": [
    {
     "data": {
      "text/plain": [
       "<bound method DataFrame.count of DataFrame[song_id: string, title: string, duration: double, artist_name: string, year: int, artist_id: string, artist: string, auth: string, firstName: string, gender: string, itemInSession: bigint, lastName: string, length: double, level: string, location: string, method: string, page: string, registration: double, sessionId: bigint, song: string, status: bigint, ts: bigint, userAgent: string, userId: string, start_time: timestamp, week_day: string, week: string, hour: string, day: string, year: string, month: string]>"
      ]
     },
     "execution_count": 39,
     "metadata": {},
     "output_type": "execute_result"
    }
   ],
   "source": [
    "df_total.count"
   ]
  },
  {
   "cell_type": "code",
   "execution_count": 40,
   "metadata": {},
   "outputs": [],
   "source": [
    "# write songplays table to parquet files partitioned by year and month\n",
    "songplay.write.parquet(\"home/workspace/song_plays.parquet\", \"overwrite\")"
   ]
  },
  {
   "cell_type": "code",
   "execution_count": 52,
   "metadata": {},
   "outputs": [],
   "source": [
    "###################################test"
   ]
  },
  {
   "cell_type": "code",
   "execution_count": 39,
   "metadata": {},
   "outputs": [],
   "source": [
    "# read in song data to use for songplays table\n",
    "#song_data1 = os.path.join(input_data, \"song-data/A/A/A/*.json\")\n",
    "song_df1 = spark.read.json(\"data/song_data/*/*/*/*.json\")\n",
    "\n",
    "# extract columns from joined song and log datasets to create songplays table \n",
    "df1 = df_plays.join(song_df1, song_df1.title == df_plays.song)\n",
    "\n",
    "#& (song_df.artist_name == df_plays.artist)"
   ]
  },
  {
   "cell_type": "code",
   "execution_count": 40,
   "metadata": {},
   "outputs": [
    {
     "name": "stdout",
     "output_type": "stream",
     "text": [
      "+-------------------+------+-----+------------------+------------------+---------+--------------------+--------------------+\n",
      "|         start_time|userId|level|           song_id|         artist_id|sessionId|            location|           userAgent|\n",
      "+-------------------+------+-----+------------------+------------------+---------+--------------------+--------------------+\n",
      "|2018-11-21 21:56:47|    15| paid|SOZCTXZ12AB0182364|AR5KOSW1187FB35FF4|      818|Chicago-Napervill...|\"Mozilla/5.0 (X11...|\n",
      "|2018-11-14 05:06:03|    10| free|SOGDBUF12A8C140FAA|AR558FS1187FB45658|      484|Washington-Arling...|\"Mozilla/5.0 (Mac...|\n",
      "|2018-11-19 09:14:20|    24| paid|SOGDBUF12A8C140FAA|AR558FS1187FB45658|      672|Lake Havasu City-...|\"Mozilla/5.0 (Win...|\n",
      "|2018-11-27 22:35:59|    80| paid|SOGDBUF12A8C140FAA|AR558FS1187FB45658|      992|Portland-South Po...|\"Mozilla/5.0 (Mac...|\n",
      "+-------------------+------+-----+------------------+------------------+---------+--------------------+--------------------+\n",
      "\n"
     ]
    }
   ],
   "source": [
    "songplays_table1 = df1[\"start_time\", \"userId\", \"level\", \"song_id\", \"artist_id\", \"sessionId\", \"location\", \"userAgent\"]\n",
    "songplays_table1.show(5)"
   ]
  },
  {
   "cell_type": "code",
   "execution_count": null,
   "metadata": {},
   "outputs": [],
   "source": [
    "songplays_table1 = df1.select(\n",
    "    col('ts').alias('ts'),\n",
    "    col('userId').alias('user_id'),\n",
    "    col('level').alias('level'),\n",
    "    col('song_id').alias('song_id'),\n",
    "    col('artist_id').alias('artist_id'),\n",
    "    col('sessionId').alias('session_id'),\n",
    "    col('location').alias('location'),\n",
    "    col('userAgent').alias('user_agent'),\n",
    "    col('year'), #.alias('year'),\n",
    "    month('datetime').alias('month')\n",
    ")"
   ]
  },
  {
   "cell_type": "code",
   "execution_count": null,
   "metadata": {},
   "outputs": [],
   "source": [
    "#############################test"
   ]
  },
  {
   "cell_type": "code",
   "execution_count": null,
   "metadata": {},
   "outputs": [],
   "source": [
    "def process_log_data(spark, input_data, output_data):\n",
    "    # get filepath to log data file\n",
    "    log_data =\n",
    "\n",
    "    # read log data file\n",
    "    df = \n",
    "    \n",
    "    # filter by actions for song plays\n",
    "    df = \n",
    "\n",
    "    # extract columns for users table    \n",
    "    artists_table = \n",
    "    \n",
    "    # write users table to parquet files\n",
    "    artists_table\n",
    "\n",
    "    # create timestamp column from original timestamp column\n",
    "    get_timestamp = udf()\n",
    "    df = \n",
    "    \n",
    "    # create datetime column from original timestamp column\n",
    "    get_datetime = udf()\n",
    "    df = \n",
    "    \n",
    "    # extract columns to create time table\n",
    "    time_table = \n",
    "    \n",
    "    # write time table to parquet files partitioned by year and month\n",
    "    time_table\n",
    "    \n",
    "    ------------------------------\n",
    "\n",
    "    # read in song data to use for songplays table\n",
    "    song_df = \n",
    "\n",
    "    # extract columns from joined song and log datasets to create songplays table \n",
    "    songplays_table = \n",
    "\n",
    "    # write songplays table to parquet files partitioned by year and month\n",
    "    songplays_table\n"
   ]
  },
  {
   "cell_type": "code",
   "execution_count": null,
   "metadata": {},
   "outputs": [],
   "source": []
  },
  {
   "cell_type": "code",
   "execution_count": null,
   "metadata": {},
   "outputs": [],
   "source": [
    "#End"
   ]
  },
  {
   "cell_type": "code",
   "execution_count": null,
   "metadata": {},
   "outputs": [],
   "source": []
  },
  {
   "cell_type": "code",
   "execution_count": null,
   "metadata": {},
   "outputs": [],
   "source": []
  },
  {
   "cell_type": "code",
   "execution_count": null,
   "metadata": {},
   "outputs": [],
   "source": []
  },
  {
   "cell_type": "code",
   "execution_count": 23,
   "metadata": {},
   "outputs": [],
   "source": [
    "# get filepath to song data file\n",
    "song_data_path = \"data/song_data/*/*/*/*.json\""
   ]
  },
  {
   "cell_type": "code",
   "execution_count": 24,
   "metadata": {},
   "outputs": [],
   "source": [
    "#Read file\n",
    "song_data = spark.read.json(song_data_path)"
   ]
  },
  {
   "cell_type": "code",
   "execution_count": 25,
   "metadata": {},
   "outputs": [
    {
     "name": "stdout",
     "output_type": "stream",
     "text": [
      "+------------------+---------------+--------------------+----------------+--------------------+---------+---------+------------------+--------------------+----+\n",
      "|         artist_id|artist_latitude|     artist_location|artist_longitude|         artist_name| duration|num_songs|           song_id|               title|year|\n",
      "+------------------+---------------+--------------------+----------------+--------------------+---------+---------+------------------+--------------------+----+\n",
      "|ARDR4AC1187FB371A1|           null|                    |            null|Montserrat Caball...|511.16363|        1|SOBAYLL12A8C138AF9|Sono andati? Fing...|   0|\n",
      "|AREBBGV1187FB523D2|           null|         Houston, TX|            null|Mike Jones (Featu...|173.66159|        1|SOOLYAZ12A6701F4A6|Laws Patrolling (...|   0|\n",
      "|ARMAC4T1187FB3FA4C|       40.82624|   Morris Plains, NJ|       -74.47995|The Dillinger Esc...|207.77751|        1|SOBBUGU12A8C13E95D|Setting Fire to S...|2004|\n",
      "|ARPBNLO1187FB3D52F|       40.71455|        New York, NY|       -74.00712|            Tiny Tim| 43.36281|        1|SOAOIBZ12AB01815BE|I Hold Your Hand ...|2000|\n",
      "|ARNF6401187FB57032|       40.79086|New York, NY [Man...|       -73.96644|   Sophie B. Hawkins|  305.162|        1|SONWXQJ12A8C134D94|The Ballad Of Sle...|1994|\n",
      "|ARDNS031187B9924F0|       32.67828|             Georgia|       -83.22295|          Tim Wilson|186.48771|        1|SONYPOM12A8C13B2D7|I Think My Wife I...|2005|\n",
      "|ARLTWXK1187FB5A3F8|       32.74863|      Fort Worth, TX|       -97.32925|         King Curtis|326.00771|        1|SODREIN12A58A7F2E5|A Whiter Shade Of...|   0|\n",
      "|ARPFHN61187FB575F6|       41.88415|         Chicago, IL|       -87.63241|         Lupe Fiasco|279.97995|        1|SOWQTQZ12A58A7B63E|Streets On Fire (...|   0|\n",
      "|ARI2JSK1187FB496EF|       51.50632|     London, England|        -0.12714|Nick Ingman;Gavyn...|111.62077|        1|SODUJBS12A8C132150|Wessex Loses a Bride|   0|\n",
      "|AR9AWNF1187B9AB0B4|           null|Seattle, Washingt...|            null|Kenny G featuring...|236.93016|        1|SOZHPGD12A8C1394FE|     Baby Come To Me|   0|\n",
      "|AR0RCMP1187FB3F427|       30.08615|        Beaumont, TX|       -94.10158|    Billie Jo Spears|133.32853|        1|SOGXHEG12AB018653E|It Makes No Diffe...|1992|\n",
      "|AROUOZZ1187B9ABE51|       40.79195|New York, NY [Spa...|       -73.94512|         Willie Bobo|168.25424|        1|SOBZBAZ12A6D4F8742|      Spanish Grease|1997|\n",
      "|AR47JEX1187B995D81|       37.83721|          Nevada, MO|       -94.35868|        SUE THOMPSON|124.86485|        1|SOBLGCN12AB0183212|James (Hold The L...|1985|\n",
      "|ARKFYS91187B98E58F|           null|                    |            null|Jeff And Sheri Ea...| 267.7024|        1|SOYMRWW12A6D4FAB14|The Moon And I (O...|   0|\n",
      "|ARB29H41187B98F0EF|       41.88415|             Chicago|       -87.63241|       Terry Callier|342.56934|        1|SOGNCJP12A58A80271|Do You Finally Ne...|1972|\n",
      "|AR10USD1187B99F3F1|           null|Burlington, Ontar...|            null|Tweeterfriendly M...|189.57016|        1|SOHKNRJ12A6701D1F8|        Drop of Rain|   0|\n",
      "|ARQGYP71187FB44566|       34.31109|         Mineola, AR|       -94.02978|        Jimmy Wakely|151.84934|        1|SOWTBJW12AC468AC6E|Broken-Down Merry...|   0|\n",
      "|ARBEBBY1187B9B43DB|           null|     Gainesville, FL|            null|           Tom Petty|236.17261|        1|SOFFKZS12AB017F194|A Higher Place (A...|1994|\n",
      "|AR36F9J1187FB406F1|       56.27609|             Denmark|         9.51695|      Bombay Rockers|230.71302|        1|SOBKWDJ12A8C13B2F3|Wild Rose (Back 2...|   0|\n",
      "|ARMBR4Y1187B9990EB|       37.77916|     California - SF|      -122.42005|        David Martin|241.47546|        1|SOTTDKS12AB018D69B|It Wont Be Christmas|   0|\n",
      "+------------------+---------------+--------------------+----------------+--------------------+---------+---------+------------------+--------------------+----+\n",
      "only showing top 20 rows\n",
      "\n"
     ]
    }
   ],
   "source": [
    "song_data.show()"
   ]
  },
  {
   "cell_type": "code",
   "execution_count": 58,
   "metadata": {},
   "outputs": [],
   "source": [
    "# extract columns to create songs table song_id, title, artist_id, year, duration\n",
    "songs_table = song_data[\"song_id\", \"title\", \"artist_id\", \"year\", \"duration\", \"artist_name\"]"
   ]
  },
  {
   "cell_type": "code",
   "execution_count": null,
   "metadata": {},
   "outputs": [],
   "source": []
  },
  {
   "cell_type": "code",
   "execution_count": 59,
   "metadata": {},
   "outputs": [],
   "source": [
    "# write songs table to parquet files partitioned by year and artist\n",
    "songs_table.write.partitionBy(\"year\", \"artist_id\").parquet(\"home/workspace/songs_table.parquet\", \"overwrite\")"
   ]
  },
  {
   "cell_type": "code",
   "execution_count": 30,
   "metadata": {},
   "outputs": [],
   "source": [
    "# extract columns to create artists table\n",
    "artists_table = song_data[\"artist_id\", \"artist_name\", \"artist_location\", \"artist_latitude\", \"artist_longitude\"]\n",
    "\n",
    "# write artists table to parquet files\n",
    "artists_table.write.parquet(\"home/workspace/artists_table.parquet\", \"overwrite\")"
   ]
  },
  {
   "cell_type": "code",
   "execution_count": null,
   "metadata": {},
   "outputs": [],
   "source": [
    "def process_song_data(spark, input_data, output_data):\n",
    "    # get filepath to song data file\n",
    "    song_data = \"./data/log-data.zip\"\n",
    "                \n",
    "    df = \n",
    "\n",
    "    # extract columns to create songs table\n",
    "    songs_table = \n",
    "    \n",
    "    # write songs table to parquet files partitioned by year and artist\n",
    "    songs_table\n",
    "\n",
    "    # extract columns to create artists table\n",
    "    artists_table = \n",
    "    \n",
    "    # write artists table to parquet files\n",
    "    artists_table"
   ]
  },
  {
   "cell_type": "code",
   "execution_count": null,
   "metadata": {},
   "outputs": [],
   "source": []
  },
  {
   "cell_type": "code",
   "execution_count": null,
   "metadata": {},
   "outputs": [],
   "source": [
    "------------------------------------------------"
   ]
  },
  {
   "cell_type": "code",
   "execution_count": null,
   "metadata": {},
   "outputs": [],
   "source": [
    "# extract columns from joined song and log datasets to create songplays table \n",
    "log_df.createOrReplaceTempView(\"log_df_table\")\n",
    "song_df.createOrReplaceTempView(\"song_df_table\")\n",
    "\n",
    "songplays_table = spark.sql(\n",
    "    \"\"\"SELECT DISTINCT log_df_table.start_time, log_df_table.userId, log_df_table.level, log_df_table.sessionId, log_df_table.location,log_df_table.userAgent, song_df_table.song_id, song_df_table.artist_id\n",
    "    FROM log_df_table \n",
    "    INNER JOIN song_df_table \n",
    "    ON song_df_table.artist_name = log_df_table.artist \n",
    "    INNER JOIN time_table\n",
    "    ON time_table.start_time = log_df_table.start_time\n",
    "    GROUP BY time_table.year, time_table.month\n",
    "    \"\"\")\n",
    "songplays_table = songplays_table.withColumn(\"songplay_id\", monotonically_increasing_id()"
   ]
  }
 ],
 "metadata": {
  "kernelspec": {
   "display_name": "Python 3",
   "language": "python",
   "name": "python3"
  },
  "language_info": {
   "codemirror_mode": {
    "name": "ipython",
    "version": 3
   },
   "file_extension": ".py",
   "mimetype": "text/x-python",
   "name": "python",
   "nbconvert_exporter": "python",
   "pygments_lexer": "ipython3",
   "version": "3.7.1"
  }
 },
 "nbformat": 4,
 "nbformat_minor": 4
}
